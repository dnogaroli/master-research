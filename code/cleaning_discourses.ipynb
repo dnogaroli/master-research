{
 "cells": [
  {
   "cell_type": "markdown",
   "metadata": {},
   "source": [
    "After filtering the discourses based on the keywords we choose, let's clean them up. \n",
    "\n",
    "There are distinct patterns at the beginning of each discourse that separate the names of the representatives, the political party, whether the speech was given or was submitted. We need to remove these sentences, otherwise they will mess the final results."
   ]
  },
  {
   "cell_type": "code",
   "execution_count": null,
   "metadata": {
    "id": "4f197orlN8b9"
   },
   "outputs": [],
   "source": [
    "import pandas as pd\n",
    "import re\n",
    "import spacy\n",
    "import numpy as np\n",
    "import nltk\n",
    "import string\n",
    "import time\n",
    "from nltk.tokenize import RegexpTokenizer\n",
    "from collections import Counter"
   ]
  },
  {
   "cell_type": "code",
   "execution_count": null,
   "metadata": {
    "id": "8CgPpG2rN8cL",
    "outputId": "bc9dccdd-412a-4365-ae67-c853ef860ada"
   },
   "outputs": [
    {
     "name": "stdout",
     "output_type": "stream",
     "text": [
      "spaCy Version: 3.0.6\n",
      "Wall time: 23.3 s\n"
     ]
    }
   ],
   "source": [
    "%%time\n",
    "nlp = spacy.load(\"pt_core_news_lg\")\n",
    "print('spaCy Version: %s' % (spacy.__version__))"
   ]
  },
  {
   "cell_type": "code",
   "execution_count": null,
   "metadata": {
    "id": "3oqvaRnCN8cP"
   },
   "outputs": [],
   "source": [
    "df = pd.read_csv('amazon_discourses.tsv', sep='\\t', encoding=\"utf-8\")"
   ]
  },
  {
   "cell_type": "code",
   "execution_count": null,
   "metadata": {
    "id": "B_uEj0XJN8cQ",
    "outputId": "995499ce-896a-4a37-973a-e76e107ac203",
    "scrolled": true
   },
   "outputs": [
    {
     "data": {
      "text/html": [
       "<div>\n",
       "<style scoped>\n",
       "    .dataframe tbody tr th:only-of-type {\n",
       "        vertical-align: middle;\n",
       "    }\n",
       "\n",
       "    .dataframe tbody tr th {\n",
       "        vertical-align: top;\n",
       "    }\n",
       "\n",
       "    .dataframe thead th {\n",
       "        text-align: right;\n",
       "    }\n",
       "</style>\n",
       "<table border=\"1\" class=\"dataframe\">\n",
       "  <thead>\n",
       "    <tr style=\"text-align: right;\">\n",
       "      <th></th>\n",
       "      <th>date</th>\n",
       "      <th>session</th>\n",
       "      <th>phase</th>\n",
       "      <th>discourse_link</th>\n",
       "      <th>speaker</th>\n",
       "      <th>party</th>\n",
       "      <th>coalition</th>\n",
       "      <th>state</th>\n",
       "      <th>region</th>\n",
       "      <th>original_discourse</th>\n",
       "    </tr>\n",
       "  </thead>\n",
       "  <tbody>\n",
       "    <tr>\n",
       "      <th>0</th>\n",
       "      <td>2000-01-11</td>\n",
       "      <td>195.2.51.O</td>\n",
       "      <td>short address</td>\n",
       "      <td>https://www.camara.leg.br/internet/SitaqWeb/Te...</td>\n",
       "      <td>nilton capixaba</td>\n",
       "      <td>ptb</td>\n",
       "      <td>0</td>\n",
       "      <td>ro</td>\n",
       "      <td>north</td>\n",
       "      <td>O SR. NILTON CAPIXABA (PTB-RO. Pronuncia o seg...</td>\n",
       "    </tr>\n",
       "    <tr>\n",
       "      <th>1</th>\n",
       "      <td>2000-01-11</td>\n",
       "      <td>195.2.51.O</td>\n",
       "      <td>parliamentarian communications</td>\n",
       "      <td>https://www.camara.leg.br/internet/SitaqWeb/Te...</td>\n",
       "      <td>sérgio novais</td>\n",
       "      <td>psb</td>\n",
       "      <td>0</td>\n",
       "      <td>ce</td>\n",
       "      <td>northeast</td>\n",
       "      <td>O SR. SÉRGIO NOVAIS (Bloco/PSB-CE. Como Líder....</td>\n",
       "    </tr>\n",
       "    <tr>\n",
       "      <th>2</th>\n",
       "      <td>2000-01-11</td>\n",
       "      <td>195.2.51.O</td>\n",
       "      <td>short address</td>\n",
       "      <td>https://www.camara.leg.br/internet/SitaqWeb/Te...</td>\n",
       "      <td>marcos afonso</td>\n",
       "      <td>pt</td>\n",
       "      <td>0</td>\n",
       "      <td>ac</td>\n",
       "      <td>north</td>\n",
       "      <td>O SR. MARCOS AFONSO (PT-AC. Pronuncia o seguin...</td>\n",
       "    </tr>\n",
       "    <tr>\n",
       "      <th>3</th>\n",
       "      <td>2000-01-11</td>\n",
       "      <td>195.2.51.O</td>\n",
       "      <td>short address</td>\n",
       "      <td>https://www.camara.leg.br/internet/SitaqWeb/Te...</td>\n",
       "      <td>expedito júnior</td>\n",
       "      <td>dem</td>\n",
       "      <td>1</td>\n",
       "      <td>ro</td>\n",
       "      <td>north</td>\n",
       "      <td>O SR . EXPEDITO JÚNIOR (PFL-RO. Pronuncia o se...</td>\n",
       "    </tr>\n",
       "    <tr>\n",
       "      <th>4</th>\n",
       "      <td>2000-03-11</td>\n",
       "      <td>196.2.51.O</td>\n",
       "      <td>long address</td>\n",
       "      <td>https://www.camara.leg.br/internet/SitaqWeb/Te...</td>\n",
       "      <td>silas câmara</td>\n",
       "      <td>ptb</td>\n",
       "      <td>0</td>\n",
       "      <td>am</td>\n",
       "      <td>north</td>\n",
       "      <td>O SR. SILAS CÂMARA (PTB-AM. Sem revisão do ora...</td>\n",
       "    </tr>\n",
       "    <tr>\n",
       "      <th>...</th>\n",
       "      <td>...</td>\n",
       "      <td>...</td>\n",
       "      <td>...</td>\n",
       "      <td>...</td>\n",
       "      <td>...</td>\n",
       "      <td>...</td>\n",
       "      <td>...</td>\n",
       "      <td>...</td>\n",
       "      <td>...</td>\n",
       "      <td>...</td>\n",
       "    </tr>\n",
       "    <tr>\n",
       "      <th>14597</th>\n",
       "      <td>2021-12-15</td>\n",
       "      <td>162.2021</td>\n",
       "      <td>agenda</td>\n",
       "      <td>https://www.camara.leg.br/internet/sitaqweb/Te...</td>\n",
       "      <td>cleber verde</td>\n",
       "      <td>republicanos</td>\n",
       "      <td>0</td>\n",
       "      <td>ma</td>\n",
       "      <td>northeast</td>\n",
       "      <td>O SR. CLEBER VERDE (REPUBLICANOS - MA. Pela or...</td>\n",
       "    </tr>\n",
       "    <tr>\n",
       "      <th>14598</th>\n",
       "      <td>2021-12-16</td>\n",
       "      <td>163.2021</td>\n",
       "      <td>brief communications</td>\n",
       "      <td>https://www.camara.leg.br/internet/sitaqweb/Te...</td>\n",
       "      <td>josé ricardo</td>\n",
       "      <td>pt</td>\n",
       "      <td>0</td>\n",
       "      <td>am</td>\n",
       "      <td>north</td>\n",
       "      <td>O SR. JOSÉ RICARDO (PT - AM. Sem revisão do or...</td>\n",
       "    </tr>\n",
       "    <tr>\n",
       "      <th>14599</th>\n",
       "      <td>2021-12-16</td>\n",
       "      <td>163.2021</td>\n",
       "      <td>brief communications</td>\n",
       "      <td>https://www.camara.leg.br/internet/sitaqweb/Te...</td>\n",
       "      <td>sidney leite</td>\n",
       "      <td>psd</td>\n",
       "      <td>0</td>\n",
       "      <td>am</td>\n",
       "      <td>north</td>\n",
       "      <td>O SR. SIDNEY LEITE (PSD - AM. Sem revisão do o...</td>\n",
       "    </tr>\n",
       "    <tr>\n",
       "      <th>14600</th>\n",
       "      <td>2021-12-16</td>\n",
       "      <td>163.2021</td>\n",
       "      <td>brief communications</td>\n",
       "      <td>https://www.camara.leg.br/internet/sitaqweb/Te...</td>\n",
       "      <td>bohn gass</td>\n",
       "      <td>pt</td>\n",
       "      <td>0</td>\n",
       "      <td>rs</td>\n",
       "      <td>south</td>\n",
       "      <td>O SR. BOHN GASS (PT - RS. Sem revisão do orado...</td>\n",
       "    </tr>\n",
       "    <tr>\n",
       "      <th>14601</th>\n",
       "      <td>2021-12-16</td>\n",
       "      <td>163.2021</td>\n",
       "      <td>agenda</td>\n",
       "      <td>https://www.camara.leg.br/internet/sitaqweb/Te...</td>\n",
       "      <td>bohn gass</td>\n",
       "      <td>pt</td>\n",
       "      <td>0</td>\n",
       "      <td>rs</td>\n",
       "      <td>south</td>\n",
       "      <td>O SR. BOHN GASS (PT - RS. Como Líder. Sem revi...</td>\n",
       "    </tr>\n",
       "  </tbody>\n",
       "</table>\n",
       "<p>14602 rows × 10 columns</p>\n",
       "</div>"
      ],
      "text/plain": [
       "             date     session                           phase  \\\n",
       "0      2000-01-11  195.2.51.O                   short address   \n",
       "1      2000-01-11  195.2.51.O  parliamentarian communications   \n",
       "2      2000-01-11  195.2.51.O                   short address   \n",
       "3      2000-01-11  195.2.51.O                   short address   \n",
       "4      2000-03-11  196.2.51.O                    long address   \n",
       "...           ...         ...                             ...   \n",
       "14597  2021-12-15    162.2021                          agenda   \n",
       "14598  2021-12-16    163.2021            brief communications   \n",
       "14599  2021-12-16    163.2021            brief communications   \n",
       "14600  2021-12-16    163.2021            brief communications   \n",
       "14601  2021-12-16    163.2021                          agenda   \n",
       "\n",
       "                                          discourse_link          speaker  \\\n",
       "0      https://www.camara.leg.br/internet/SitaqWeb/Te...  nilton capixaba   \n",
       "1      https://www.camara.leg.br/internet/SitaqWeb/Te...    sérgio novais   \n",
       "2      https://www.camara.leg.br/internet/SitaqWeb/Te...    marcos afonso   \n",
       "3      https://www.camara.leg.br/internet/SitaqWeb/Te...  expedito júnior   \n",
       "4      https://www.camara.leg.br/internet/SitaqWeb/Te...     silas câmara   \n",
       "...                                                  ...              ...   \n",
       "14597  https://www.camara.leg.br/internet/sitaqweb/Te...     cleber verde   \n",
       "14598  https://www.camara.leg.br/internet/sitaqweb/Te...     josé ricardo   \n",
       "14599  https://www.camara.leg.br/internet/sitaqweb/Te...     sidney leite   \n",
       "14600  https://www.camara.leg.br/internet/sitaqweb/Te...        bohn gass   \n",
       "14601  https://www.camara.leg.br/internet/sitaqweb/Te...        bohn gass   \n",
       "\n",
       "              party  coalition state     region  \\\n",
       "0               ptb          0    ro      north   \n",
       "1               psb          0    ce  northeast   \n",
       "2                pt          0    ac      north   \n",
       "3               dem          1    ro      north   \n",
       "4               ptb          0    am      north   \n",
       "...             ...        ...   ...        ...   \n",
       "14597  republicanos          0    ma  northeast   \n",
       "14598            pt          0    am      north   \n",
       "14599           psd          0    am      north   \n",
       "14600            pt          0    rs      south   \n",
       "14601            pt          0    rs      south   \n",
       "\n",
       "                                      original_discourse  \n",
       "0      O SR. NILTON CAPIXABA (PTB-RO. Pronuncia o seg...  \n",
       "1      O SR. SÉRGIO NOVAIS (Bloco/PSB-CE. Como Líder....  \n",
       "2      O SR. MARCOS AFONSO (PT-AC. Pronuncia o seguin...  \n",
       "3      O SR . EXPEDITO JÚNIOR (PFL-RO. Pronuncia o se...  \n",
       "4      O SR. SILAS CÂMARA (PTB-AM. Sem revisão do ora...  \n",
       "...                                                  ...  \n",
       "14597  O SR. CLEBER VERDE (REPUBLICANOS - MA. Pela or...  \n",
       "14598  O SR. JOSÉ RICARDO (PT - AM. Sem revisão do or...  \n",
       "14599  O SR. SIDNEY LEITE (PSD - AM. Sem revisão do o...  \n",
       "14600  O SR. BOHN GASS (PT - RS. Sem revisão do orado...  \n",
       "14601  O SR. BOHN GASS (PT - RS. Como Líder. Sem revi...  \n",
       "\n",
       "[14602 rows x 10 columns]"
      ]
     },
     "execution_count": 7,
     "metadata": {},
     "output_type": "execute_result"
    }
   ],
   "source": [
    "df"
   ]
  },
  {
   "cell_type": "code",
   "execution_count": null,
   "metadata": {
    "id": "RZAe1MNFN8cT"
   },
   "outputs": [],
   "source": [
    "# we first need to make sure some patterns exists:\n",
    "df['original_discourse'] = df['original_discourse'].str.replace('–', '-')\n",
    "df['original_discourse'] = df['original_discourse'].str.replace('—', '-')\n",
    "df['original_discourse'] = df['original_discourse'].str.replace(\" – \", ' - ')\n",
    "\n",
    "df['original_discourse'] = df['original_discourse'].str.replace(\"\\.\\) -\", \"\\.\\) - \")\n",
    "df['original_discourse'] = df['original_discourse'].str.replace(\"\\.\\) \", \"\\.\\) - \")\n",
    "df['original_discourse'] = df['original_discourse'].str.replace(\"\\.\\)-\", \"\\.\\) - \")\n",
    "df['original_discourse'] = df['original_discourse'].str.replace(\"\\.\\)\\. - \", \"\\.\\) - \")\n",
    "\n",
    "df['original_discourse'] = df['original_discourse'].str.replace(\"\\.\\)S\", \"\\.\\) - S\")"
   ]
  },
  {
   "cell_type": "code",
   "execution_count": null,
   "metadata": {
    "id": "2UjeURR7N8cY"
   },
   "outputs": [],
   "source": [
    "# create a copy\n",
    "df1 = df.copy()"
   ]
  },
  {
   "cell_type": "code",
   "execution_count": null,
   "metadata": {
    "id": "2pqAUcx-N8ca",
    "outputId": "1a2f842f-319b-4502-e8e8-fb8445541663"
   },
   "outputs": [
    {
     "name": "stdout",
     "output_type": "stream",
     "text": [
      "14602\n"
     ]
    }
   ],
   "source": [
    "size = df.shape[0]\n",
    "print(size)"
   ]
  },
  {
   "cell_type": "markdown",
   "metadata": {
    "id": "sKxuwGWMN8cc"
   },
   "source": [
    "**1st approach:** sentences regularly start with an \") - \", so we'll split the discourses into two parts and hold the last one which actually holds the discourse."
   ]
  },
  {
   "cell_type": "code",
   "execution_count": null,
   "metadata": {
    "id": "kdyvV98pN8cg"
   },
   "outputs": [],
   "source": [
    "df['clean_discourse'] = df.original_discourse.str.split(\"orador\\.\\) - \", n=2, expand=True)[1]"
   ]
  },
  {
   "cell_type": "markdown",
   "metadata": {
    "id": "T4yIJnZ7N8cj"
   },
   "source": [
    "As expected, this approach does not work on the others patterns, giving us some empty discourses, as we can see below."
   ]
  },
  {
   "cell_type": "code",
   "execution_count": null,
   "metadata": {
    "id": "647EjJQ3N8ck",
    "outputId": "05e22daa-3d87-4eb0-ac4b-5e63756bc80c"
   },
   "outputs": [
    {
     "name": "stdout",
     "output_type": "stream",
     "text": [
      "There are 110 null speeches\n"
     ]
    }
   ],
   "source": [
    "# checking the null entries where the split hasn't worked well\n",
    "null_speeches = df.loc[df.clean_discourse.isna()]\n",
    "print(\"There are %i null speeches\" % len(null_speeches))"
   ]
  },
  {
   "cell_type": "code",
   "execution_count": null,
   "metadata": {
    "id": "W4L1KJJAN8co",
    "outputId": "b6356040-1875-40d7-a093-aa523d418c16"
   },
   "outputs": [
    {
     "name": "stdout",
     "output_type": "stream",
     "text": [
      "O SR. CONFÚCIO MOURA (PMDB-RO. Pronuncia o seguinte discurso\\.\\) -  Sr. Presidente, Sras. e Srs. Deputados, grande parte da população brasileira pensa que a atividade parlamentar resume-se às votações e aos discursos no plenário. Ledo engano. A missão de grande parte dos Parlamentares, de sexta a segunda-feira, consiste numa via-sacra de reuniões, visitas, debates e palestras nos Municípios de sua base política.Na semana passada visitei dois Municípios no Estado de Rondônia: Theobroma e Jaru, que ficam a 25 quilômetros de distância um do outro. O primeiro foi distrito do outro por muitos anos.São Municípios irmãos, com problemática semelhante, tendo eles, ainda, a maioria de suas populações localizada na área rural e sendo sede da maior bacia leiteira da Amazônia Ocidental. Enormes são as dificuldades dos Prefeitos para a manutenção de suas estradas, principalmente em Rondônia, que tem um dos mais elevados índices de chuva do País, para deixá-las em condições de tráfego, para o transporte da produção, cada um tem mais de mil quilômetros de estradas vicinais para cuidar, um verdadeiro desafio.Mas, Sr. Presidente, fiquei muito satisfeito com a visita, com a vontade demonstrada pelos administradores - Prefeitos João Batista, de Theobroma, e Amauri, do Jaru - de acertar, de eleger as prioridades de trabalho e, ao mesmo tempo, cheios de ousadia com seus projetos de desenvolvimento, estimulando os produtores e criando as condições de infra-estrutura na área rural, como energia elétrica, que já beneficia mais de 70% dos trabalhadores no campo.Reuni-me com o ilustre Secretário de Saúde Abson Praxedes, de Jaru, e conversamos sobre a implantação do Programa Saúde da Família, sobre a implantação da Política de Medicamentos Básicos e a melhoria dos serviços assistências de saúde, tendo S.Exa. colocado esses assuntos na listagem de suas prioridades. Para este ano de 2001 comprometeu-se a implantar sete equipes do Saúde da Família. Não tenho dúvidas de que serão muitas as barreiras que terá que vencer para essa implantação, principalmente pela escassez de profissionais da área e pelos baixos valores destinados anualmente pelo Ministério da Saúde para o programa, mas, com sua contrapartida de recursos e de boa vontade, tenho certeza de que a população do Jaru será melhor atendida.A cidade deverá ser reconstruída - até a Prefeitura do Jaru foi incendiada antes de posse - e renascerá com o esforço de seu povo e a vontade dos Vereadores e do Prefeito Municipal, com o apoio da bancada parlamentar federal e do Governo do Estado. A ousadia não tem limites e, como desafio, o Prefeito Amauri colocou em execução o megaprojeto de melhoria da genética do gado leiteiro, com melhoria da nutrição animal, assistência técnica permanente e a qualificação dos produtores, para que num período de quatro a dez anos possa a região, que já é a maior produtora de leite do Estado, experimentar índices crescentes de produtividade. Tudo isso foi entregue para execução pelo competente Secretário Municipal de Agricultura, Sr. Roberto.Desta forma, Srs. Parlamentares, fico muito satisfeito com as visitas que faço nos finais de semana. Delas trago folhas e folhas de anotações, pleitos e expedientes, que se transformam em Brasília em iniciativas e ações em busca de soluções para as imensas demandas. \n",
      "\n",
      " O SR. ORLANDO DESCONSI (PT-RS. Sem revisão do orador\\.\\) -  Sr. Presidente, Sras. e Srs. Deputados, cidadãs e cidadãos, estamos diante de fato internacional muito grave: a ameaça de guerra dos Estados Unidos contra o Iraque. É uma demonstração de autoritarismo, de desrespeito a um organismo internacional como a ONU, que não atesta a guerra. Preocupamo-nos com atos que legitimam a iniciativa, do Presidente de uma grande potência, de um império, de invadir outros países, matar povos e destruir a natureza. A previsão é de que se gastem 100 bilhões de dólares, recursos que poderiam ser gastos no combate à fome e ao analfabetismo e para atendimento das necessidades básicas de saneamento e de habitação em outros países. Sabemos que todo esse dinheiro será destinado a uma guerra cujo propósito é ampliar reservas de mercado de petróleo para os Estados Unidos. A destruição de um povo, com a desculpa de que lá existe um ditador - e esse ditador até há bem pouco tempo serviu aos interesses dos Estados Unidos, para ocupar outros países -, é um argumento frágil e não convence. Por isso, manifestações pela paz e contra a guerra estão acontecendo em todo o mundo. E o Parlamento brasileiro precisa pronunciar-se com mais firmeza sobre a questão, somando-se aos esforços, que estão acontecendo mundialmente, para evitar o conflito. O Presidente dos Estados Unidos, George W. Bush, estabeleceu prazo de 48 horas para o início da guerra. Creio, porém, que, enquanto pudermos buscar uma solução pacífica, deveremos fazê-lo. O Presidente Luiz Inácio Lula da Silva tem realizado esforços nesse sentido, e o Poder Legislativo precisa fazer sua parte. Não podemos aceitar a guerra, por trazer prejuízos não só ao povo brasileiro, mas também e especialmente aos iraquianos, que, vítimas de uma ditadura, agora são vítimas também da intervenção autoritária de um presidente eleito sob suspeita. George W. Bush tentou obter, por meio da ONU, legitimidade para atacar o Iraque. Como não a recebeu, agora quer a guerra a qualquer custo, assegurando que sua atitude é em defesa do seu país. Não podemos concordar com isso. Sabemos que os interesses em questão são outros. Hoje é o Iraque, amanhã poderá ser o Brasil, pois temos a água que interessa os americanos - o Brasil detém de 12% a 16% da água de todo o mundo. Temos a Amazônia, patrimônio tão desejado pelos americanos. Basta ver que as escolas americanas ensinam às crianças da 6ª série que a Amazônia é território internacional e não mais faz parte do território brasileiro. Também na agricultura temos grande potencial, para expansão da produção de alimentos, em virtude da extensão de nossas terras. Portanto, poderemos, ao nos omitir hoje, ser a vítima de amanhã.Temos de envidar todos os esforços para impedir a guerra e evitar que governantes autoritários e ditadores façam o mesmo que os Estados Unidos, que estão impondo sua vontade a qualquer custo e preço, fazendo inocentes pagarem por sua ganância, arrogância e busca de mais poder.Sr. Presidente, o Parlamento brasileiro precisa tomar uma posição firme na busca da paz. Muito obrigado. \n",
      "\n",
      " O SR. ZÉ GERALDO (PT-PA. Pela ordem. Sem revisão do orador\\.\\) -  Sr. Presidente, Sras. e Srs. Deputados, quero tecer breves comentários sobre pronunciamento feito há pouco pelo Deputado Henrique Afonso, do PT do Acre, referente à biopirataria e ao cupuaçu. Planta de grande valor, o cupuaçu vem sendo cultivado na região amazônica por pequenos agricultores, com financiamento do Banco da Amazônia. Outros países, Sr. Presidente, têm muita facilidade para fazer pesquisas no território brasileiro, principalmente no amazônico, porque é com o dinheiro deles que os pesquisadores da EMBRAPA atuam na região. O Japão tem projetos de pesquisa no Pará e no Amazonas, assim como a França e a Alemanha. Na verdade, quem financia a pesquisa tem facilidade para proceder a descobertas. Quantas plantas medicinais já estão patenteadas por outros países? Pesquisas vêm sendo realizadas em nosso território por entidades financiadas por ONGs estrangeiras. Algumas são bem intencionadas, mas é por intermédio delas que plantas brasileiras estão sendo patenteadas por países que detêm o conhecimento. A EMBRAPA precisa investir em pesquisa. As descobertas são necessárias para que os recursos naturais daquela região sejam transformados em medicamentos para salvar a vida de muitas pessoas, a fim de que os trabalhadores da região tenham tecnologia à sua disposição. Com a descoberta dos produtos naturais, eles podem fazer melhor uso da flora para desenvolver a região, rica em recursos naturais, mas cuja população é classificada como uma das mais pobres do mundo. Aliás, pesquisa realizada pela ONU dividiu o Brasil em três brasis e a Amazônia ficou no terceiro. O povo daquela região vive em condições difíceis, mesmo tendo à sua disposição riquezas naturais, infelizmente só aproveitadas por grupos internacionais. \n",
      "\n",
      " O SR. ALMIR SÁ (Bloco/PL-RR. Pronuncia o seguinte discurso\\.\\) -  Exmo. Sr. Presidente, Sras. e Srs. Deputados, volto hoje a esta tribuna para tratar de assunto que, tanto por mim quanto por outros Parlamentares, já foi tratado à exaustão, embora até hoje não se tenha notícia de nenhuma medida adotada pelo Congresso Nacional ou pelo Governo Federal para amenizar o sofrimento do povo do Estado de Roraima e da Amazônia. Quero, mais uma vez, tratar da preocupante questão da demarcação de terras indígenas neste País. Como fato novo, trago as diretrizes tiradas de um encontro realizado no último dia 26 de setembro, em Cuiabá, Mato Grosso, do qual participaram representantes de todas as federações estaduais de agricultura, inclusive este Parlamentar na qualidade de presidente da Federação de Agricultura do Estado de Roraima. Foi com um misto de alívio e ao mesmo tempo apreensão que percebi, naquela oportunidade, que a demarcação, ampliação e a exacerbação das reservas indígenas não são mais um problema apenas de Roraima, que já tem 50% de seu território comprometido. Estamos agora falando de um flagelo nacional, que atinge tanto os Estados mais ricos quanto os mais pobres, como o meu. Se antes a bancada de Roraima estava isolada dentro desta Casa na luta contra as pretensões absurdas da FUNAI e das organizações não-governamentais, a maioria estrangeiras, encontrando respaldo quase que exclusivamente em nossos companheiros da bancada da Amazônia, chamamos agora a atenção para o fato de que muitos Estados brasileiros, que até então não tinham problemas dessa natureza, vêem hoje as reservas indígenas avançarem sobre imensas áreas produtivas, comprometendo a produção de alimentos, a geração de empregos e renda para milhões de brasileiros. Não se questiona aqui, Sr. Presidente, Sras. e Srs. Deputados, a garantia do direito originário do índio à terra, um dos grandes avanços da Constituição de 1988. Questiona-se, sim, o que pode ser uma grande orquestração, certamente com financiamento internacional, para esterilizar todas as regiões que potencialmente podem produzir riqueza neste País. No caso específico de Roraima, as reservas já demarcadas, por demarcar ou pretendidas pela FUNAI coincidem, de forma exemplar, com as principais reservas minerais do País, quiçá do mundo. Basta sobrepor os mapas. O que sobra para exploração econômica é muito pouco, tanto em termos de extensão quanto de recursos naturais. E na reunião de Mato Grosso, pude observar que levantamento feito pela Confederação Nacional da Agricultura revela a mesma coincidência na maioria dos Estados que hoje enfrentam problemas com demarcações de terras indígenas. As propostas de demarcação ou ampliação apresentadas pela FUNAI dizem respeito exatamente a áreas já consolidadas ou de expansão da atividade agrícola ou pecuária em Estados como Mato Grosso, Mato Grosso do Sul, Bahia etc. Alguns poderão dizer que se trata de paranóia, mas já diziam a mesma coisa de Roraima antes que a atividade econômica fosse inviabilizada por reservas indígenas, que somam quase metade dos mais de 225.000 quilômetros quadrados que tem o Estado. É por isso que repito, esta é uma situação que ao mesmo tempo me preocupa e me alivia. Preocupa-me, Sr. Presidente, Sras. e Srs. Deputados, pelas razões acima expostas. De outra forma, alivia-me por saber que outros Estados enfrentam hoje o mesmo problema de Roraima. Quem sabe assim é possível mobilizar uma quantidade maior de Deputados e Senadores para, dentro desta Casa, onde estão os legítimos representantes do povo brasileiro, encontrarmos uma solução capaz de contemplar o índio, mas também capaz de abrigar sob a legalidade o pequeno e o grande produtor rural. Sinto-me aliviado por saber que, de alguma forma, a bancada de Roraima, na qual me incluo, não estará mais solitariamente protestando dentro do Congresso Nacional contra a sanha antipatriótica da FUNAI. Era o que tinha a dizer Sr. Presidente, Sras. e Srs. Deputados. Muito obrigado. \n",
      "\n",
      " O SR. VALDENOR GUEDES (PSC-AP. Pela ordem. Pronuncia o seguinte discurso\\.\\) -  Sr. Presidente, Sras. e Srs. Deputados, há poucos dias viemos a este plenário para defender o Projeto de Lei nº 2.403, do Senador José Sarney, que beneficia, entre outros, o Estado do Amapá e a capacidade de contribuirmos para o desenvolvimento do País.Hoje, qual não foi nossa surpresa ao abrimos a revista ISTOÉ desta semana, Sr. Presidente, e ler a matéria intitulada Arquitetos da Madeira, segundo a qual produtores do Amapá exploram, de forma responsável e racional, as árvores e traçam nova rota para o comércio exterior.Sim, Sr. Presidente, nobres colegas, o longínquo Estado do Amapá agora entende e aproveita as oportunidades de efetiva auto-sustentabilidade, aquela em que se preserva a natureza sem deixar o homem à parte de seus benefícios. Acontece em Macapá, Capital do Estado, todo final de ano, rodada internacional dos setores de madeira, móveis e artesanato que chamamos de Equinócio, e somente no último evento foram fechados negócios no montante de 32 milhões de reais. Realizado há 7 anos, o encontro é organizado pelo SEBRAE e está consolidando um caminho alternativo para o comércio internacional, partindo do Amapá rumo ao Caribe, à Europa e aos Estados Unidos.O Amapá abriga 27 assentamentos, nos quais está autorizado o corte de madeira em 50% da área, madeira que antes era queimada, em prejuízo do meio ambiente. Ora, se o próprio Jornal da Globo de ontem mostrou que as exportações não param de crescer e que a balança comercial já acumula superávit de 1 bilhão e 266 milhões de dólares, então estamos no caminho certo.Queremos aproveitar para parabenizar o Governador Waldez Góes, que tem atuado de forma incisiva para que o Amapá conquiste uma posição de respeito entre as Unidades da Federação que contribuem para esses resultados positivos.Aos nossos artesãos, desejamos que continuem mostrando que somos capazes, sim, de desmistificar o processo de exportação, pois vender para o exterior não pode nem deve ser um privilégio dos grandes produtores. É essa energia que faz o crescimento de um país, que o torna capaz de competir e de tornar-se exemplo a ser seguido.Sr. Presidente, quando se criam reservas ecológicas, estações ecológicas, parques florestais, estão nos tirando oportunidade e espaço, sem nos dar algo em contrapartida. Queremos, sim, uma Amazônia que possa nos dar condição de vida condigna. O Projeto de Lei nº 2.403, que concede isenção fiscal ao Estado do Amapá e a alguns outros Estados da Amazônia Ocidental, como o Acre, Roraima, Rondônia e Amazonas, traz benefícios não só para o Amapá, mas para a Amazônia e para todo o Brasil, sem provocar prejuízo algum para o orçamento brasileiro. Muito obrigado, Sr. Presidente. \n",
      "\n",
      " O SR. MARCELO ORTIZ (PV-SP. Sem revisão do orador\\.\\) -  Sr. Presidente, Sras. e Srs. Deputados, em primeiro lugar, quero saudar os Deputados empossados em cargos de Ministro na data de hoje, como é o caso dos Deputados Ricardo Berzoini, Eunício Oliveira e Patrus Ananias. Amanhã, terei a satisfação de me referir aos demais. Como é do conhecimento desta magna Casa de leis, o Partido Verde, por meio de sua bancada, manifesta, sempre que possível, sua posição a favor do princípio da precaução no que se refere à liberação dos transgênicos no Brasil. Os métodos de melhoramento tradicionais usando sementes, reprodutores, matrizes e clones sempre constituíram uma forma de manipulação genética. A transferência natural de material genético por via microbiana é um fenômeno que ocorre desde as formas mais elementares de vida. Todavia, nesses casos, os processos são evolutivamente limitados e direcionados pela seleção natural no que diz respeito à sua adaptação, ao contrário dos métodos imediatistas e critérios seletivos artificiais e comerciais da engenharia genética.A engenharia genética ou biologia molecular auto-atribuiu-se e apropriou-se do termo biotecnologia para usar um nome atraente que disfarça sua profunda artificialidade tecnocrática. Os métodos orgânicos ou biológicos constituem biotecnologias num sentido muito mais amplo, justo e preciso no que se refere à vida e à natureza. A indução de mutações e a transgenia artificial são proibidas na agricultura orgânica em geral, porque não servem à evolução adaptativa, nem se sujeitam à seleção natural, mas, sim, obedecem a critérios e objetivos humanos e sobretudo econômicos ligados a patentes e à concentração de poder, o que particularmente acredito acontecer no Brasil. E vou mais longe: não tenho dúvida de que tal medida gera benefícios a apenas uma empresa, a Monsanto. Com relação ao Brasil, mais especificamente à nossa atual posição altamente competitiva de exportadores de produtos orgânicos, de soja e de carnes livres de transgênicos, liberar o plantio e o comércio de organismos geneticamente modificados será ceder nossa vantagem a nossos competidores, especialmente os norte-americanos, causando grande dano não só aos exportadores, mas também aos agricultores familiares, aos consumidores e ao programa governamental que se propõe a resolver o problema da fome e do desemprego por meio da participação popular e de tecnologias socialmente justas e éticas. Sr. Presidente, Sras. e Srs. Deputados, neste momento de convocação extraordinária do Congresso Nacional, volta a polêmica sobre a Lei de Biossegurança, que se arrasta no Brasil desde 1998, quando a CTNBio (Comissão Técnica Nacional de Biossegurança) finalizou seu relatório favorável à liberação comercial da soja transgênica produzida pela Monsanto.Está claro que a principal disputa entre os que defendem a liberação da soja geneticamente modificada e os que afirmam que ainda não há segurança para fazê-lo gira em torno da competência do Ministério do Meio Ambiente de exigir estudos de impacto ambiental. E é o que queremos que aconteça antes da liberação. Somos contrários porque ainda não nos provaram por meio de um sério estudo de impacto ambiental que tal medida não colocará em risco nosso meio ambiente. Somos contrários em favor da ciência, da vida dos brasileiros. O projeto que estabelece a Lei de Biossegurança está sendo analisado em regime de urgência por uma Comissão Especial da Câmara dos Deputados, cujo Relator é o sério e competente Deputado Aldo Rebelo. Peço ao ilustre Relator, na condição de Deputado Federal e companheiro de bancada pelo Estado de São Paulo, que considere o pedido do Partido Verde brasileiro, que representa a garantia da soberania do nosso País. Um país com uma biodiversidade como a nossa não pode ficar refém de patentes, ainda mais num ato até então escuso, porque não sabemos os reais efeitos da transgenia num futuro próximo. Sr. Presidente, Sras. e Srs. Deputados, aproveito a oportunidade para informar que duas conceituadas indústrias da área de alimentação - a Wickbold e a Panco - são as mais novas integrantes da lista verde do Guia do Consumidor do Greenpeace. As duas empresas enviaram à organização, no último mês, documento em que se comprometem com a não-utilização de matéria-prima e de derivados de transgênicos. A Wickbold utiliza ingredientes derivados de soja e milho nos produtos de sua linha de pães, e a Panco emprega-os na fabricação de pães, biscoitos, bolos e salgadinhos. O comprometimento da Wickbold e da Panco, duas grandes indústrias de alimentos, comprova que é possível que as empresas garantam produtos livres de transgênicos no Brasil. A indústria que não adota essa postura está desrespeitando o meio ambiente e o direito à informação do consumidor e, conseqüentemente, ficando para trás na preferência dos adquirentes. Se nos enveredarmos pela discussão do texto constitucional no que se refere ao tema, há de se ressaltar o disposto no art. 200 da Constituição Federal de 1988, para a conclusão de que o Sistema Único de Saúde - SUS tem entre suas atribuições e responsabilidades a competência para controlar e fiscalizar procedimentos, produtos e substâncias de interesse para a saúde; incrementar em sua área de atuação o desenvolvimento científico e tecnológico; e, primordialmente, o que consigna o inciso VIII do artigo citado: colaborar na proteção do meio ambiente.O projeto original do Governo Federal não permite que a CTNBio libere produto sem que a empresa cumpra a exigência legal de licenciamento ambiental. Assim não ocorre com o substitutivo, que, por incrível, contraria o projeto original e impossibilita informações sobre solicitações submetidas à CTNBio, o que afronta o princípio constitucional da publicidade dos atos da administração pública e, o que é pior, sem recurso dessas decisões. Com o projeto original, o Governo está cumprindo decisão anterior ao garantir a fiscalização por outros órgãos, sem que a palavra única e final fique exclusivamente com a CTNBio. Finalizo esta parte da minha manifestação afirmando que o Partido Verde está com a ciência, com o princípio da precaução, com a vida e com o povo. Sr. Presidente, outra manifestação que quero fazer se refere ao que é desenvolvido dentro do nosso País. Todo o Brasil aguarda uma decisão do Governo Federal quanto à escolha de uma concorrência pública - que por vezes diz-se até desnecessária - para aquisição dos caças para a defesa do País. Já manifestei em outras oportunidades a grande preocupação do País, sua soberania. E para que tenhamos essa soberania, essa plena garantia, há necessidade absoluta de termos o que chamamos de inteligência do avião. A inteligência do avião tem de ser brasileira, tem de estar em nossas mãos. O software tem de ser nosso, a fim de que no momento apropriado, no momento de nos defender, uma vez que o País não tem vocação para a guerra, possamos garantir a soberania do povo. Para tal finalidade necessitamos de armamentos. Sem dúvida nenhuma, já dissemos que, apesar de não termos vocação para a guerra, precisamos adquirir aviões por meio de um consórcio brasileiro - o ideal seria com a EMBRAER e com a AVIBRAS, ainda que consórcios estrangeiros participassem dessa concorrência pública. Como afirmei inicialmente, a Constituição dá os elementos necessários para que o Brasil adquira aviões, mas a construção e a montagem devem ser brasileiras, possibilitando primordialmente a manutenção dos empregos na indústria aeronáutica nacional. Permitam-me dar um exemplo bem simples, que ilustra o que estou dizendo. A indústria automobilística, sempre que diminui a venda de veículos, ameaça dispensar funcionários ou ameaça-lhes as férias. Hoje temos de garantir pelo menos a manutenção dos empregos na indústria aeronáutica nacional e ampliar os horizontes. Para isso, precisamos, a cada momento, acertar, melhorar a pujança da economia brasileira, produzir o material que, como tende a acontecer, temos de buscar lá fora. Concedo um aparte ao nobre Deputado Deley. O Sr. Deley - Nobre Deputado Marcelo Ortiz, do meu gabinete pude acompanhar o início do pronunciamento de V.Exa. Antes de mais nada, parabenizo-o pelo ano que teve neste Congresso Nacional e pelos temas que tem trazido à tribuna desta Casa. Conhece bem V.Exa. pela nossa luta no Partido Verde, principalmente em relação aos transgênicos, e é bom que reforcemos, sempre, o teor dos nossos pronunciamentos. Não estamos defendendo nenhuma tese ambientalista romântica. Defendemos uma tese científica. Quando solicitamos estudo de impacto ambiental, visamos proteger o povo brasileiro, nosso meio ambiente, uma das nossas maiores riquezas. O discurso de V.Exa. não só fortalece as idéias do PV, mas também as empresas nacionais. V.Exa., que muito tem lutado pelo fortalecimento das empresas nacionais de aviação civil, sabe que pode contar com nosso e com o apoio de muitos Deputados desta Casa. Tenho certeza de que todos queremos as empresas brasileiras fortalecidas. Que passemos por essa crise o mais rápido possível, a fim de cumprirmos toda a agenda social que o Governo prometeu. Muito obrigado e parabéns a V.Exa. O SR. MARCELO ORTIZ - Agradeço a V.Exa., Deputado Deley. Foi grande a satisfação ao conhecer este Plenário, os companheiros do Partido Verde, particularmente o amigo Deputado Deley e as pessoas que aqui estão no dia-a-dia. Como já me manifestei outro dia, este é meu primeiro mandato e não esperava encontrar tantas atividades nesta Casa. Tinha outra impressão do Congresso Nacional, a impressão do leigo, diferenciada. Esta Casa trabalhou muito em 2003 e trabalhará muito este ano. Não tenho nenhuma preocupação - não quero usar a palavra medo - em relação à mídia. Vamos mostrar, uma vez mais, que trabalhamos. E se fomos convocados foi porque o Governo entendeu necessária a convocação, por isso estamos aqui. Meus cabelos brancos me ensinaram que uma das regras da boa educação é a obediência. Ouço, com muita satisfação, o Deputado Moroni Torgan. O Sr. Moroni Torgan - Deputado Marcelo Ortiz, primeiro, foi uma grande honra conhecê-lo e aprender com V.Exa. a jovialidade, o bom humor e o bom espírito. Como membro do PV, V.Exa. honra a causa de seu partido. Neste momento, aborda assunto em que se faz presente a ecologia e a necessidade de preservar a vida em nosso País, para que futuras gerações possam usufruir das nossas maravilhosas riquezas. V.Exa. apresenta muito bem, em termos patrióticos, essa e a importante questão da indústria. Não agüento ver europeus e norte-americanos virem aqui nos dar lição de ecologia. Antes, deveriam fazer sua lição de casa. São eles os maiores destruidores da camada de ozônio, os maiores poluentes. Acabaram com suas florestas e todos os importantes recursos naturais e hoje estão atrás dos países que ainda os têm para nos dar lição. Se aprendermos suas lições, tornaremos a Amazônia um campo de produtividade, o que eles fizeram, e acabaremos com a floresta. Os rios ficarão comprometidos. O parque industrial inglês, por exemplo, acabou com vários recursos naturais. Gosto de ouvir um brasileiro como V.Exa. falar de ecologia, porque tem toda a autoridade para fazê-lo e defender a indústria nacional. Com uma indústria nacional forte, teremos oportunidade de gerar mais empregos, o que significa padrão de vida mais elevado. Parabenizo-o pelo tema do discurso. O SR. MARCELO ORTIZ - Agradeço a V.Exa., Deputado Moroni Torgan, e a recíproca é verdadeira. Tenho estima por V.Exa. e estou feliz por essa convivência. Aprendi muito: seriedade, honestidade e decência, o que V.Exa. tem e nos passa com muita facilidade. Gostaria de complementar, nessa linha, que, quando falamos em ecologia, há grande preocupação do mundo com a Amazônia. Exterminaram suas riquezas e agora querem se apoderar da nossa. Devemos continuar zelando pela Mata Atlântica e pela Amazônia, porque sabemos perfeitamente que, se deixarmos que haja degradação do meio ambiente, não teremos nossos rios. Se não tivermos rios, será verdade que, dentro de 20 anos, faltará água no Brasil. Ouço o Deputado Valdenor Guedes. O Sr. Valdenor Guedes - Deputado Marcelo Ortiz, parabenizo-o por esse tão importante e inteligente pronunciamento, que disserta sobre vários assuntos, inclusive a transgenia, tema muito debatido, não somente neste plenário, como também no do Senado Federal, no Brasil e no mundo inteiro. Sempre estudamos esse assunto com muita firmeza. V.Exa. citou o Conselho de Biossegurança, composto de pessoas que trabalham pela elaboração de estudo de impacto ambiental, para que não pairem dúvidas sobre o assunto. Assim a população brasileira terá mais segurança. É bom que se entenda, Deputado Marcelo Ortiz, que transgenia não é enxertia, não é clonagem, é a mudança, em parte, de uma molécula. O estudo de impacto ambiental precisa atingir milhares de centros agrícolas, que gastam 3 vezes mais produtos químicos e recursos no processo normal do que gastariam com produtos transgênicos. Em Cuba as pessoas estavam morrendo de câncer de pele e de estômago e de cegueira causados pelos produtos químicos que usavam na agricultura, que também poluíam os lençóis subterrâneos. Quando aplicaram a transgenia, a coisa mudou: gastaram menos dinheiro e produziram mais cana-de-açúcar; usaram menos produtos químicos e tiveram sucesso muito maior na produção. Queremos partir para um estudo e um debate inteligente e responsável acerca do assunto, para não levar prejuízo à agricultura. Paramos no tempo e no espaço e agora temos de investir em ciência, para não chorar pelos cantos, mais tarde. Não concordo com suas idéias nessa área, mas respeito seu pensamento e o parabenizo por tão brilhante discurso. O SR. MARCELO ORTIZ - Deputado Valdenor Guedes, para que fique bem claro, não existe contrariedade do pensamento de V.Exa. com tudo a que nos manifestamos.O Partido Verde não é contra a transgenia, é contra o plantio transgênico sem análise científica, sem estudo de impacto ambiental, sem respeito ao princípio da precaução.Já saímos da fase do ensaio e erro. Houve um tempo em que as pessoas recebiam sanguessuga para a pressão sangüínea diminuir e, então, as recebiam novamente para a pressão subir. Isso é passado.Vivemos fase extremamente moderna, com robô em Marte. Ciência e tecnologia são maravilhosas no País. Quais são nossas preocupações? Que os produtos que não receberam toda a análise científica possível tirem esse andar natural da nossa vida e não nos prejudiquem. Não podemos esquecer aonde pode nos levar a modificação no DNA do produto. Seria como se modificássemos nosso DNA: não saberíamos o momento da nossa puberdade, dentre outros. Por quê? Porque temos conhecimento de estudo anterior, ainda que o homem tenha sofrido muito com ensaio e erro. Deixo muito bem patente que o Partido Verde não tem absolutamente nada contra a transgenia, quer apenas que a ciência demonstre que o uso de produtos transgênicos não causam mal à saúde, não prejudicam a Mata Atlântica, a Amazônia. Não sabemos exatamente a extensão do plantio desse novo organismo que, como o próprio nome diz, foi geneticamente modificado. Concluo minha exposição agradecendo a Deus a oportunidade de estar nesta Casa e de trazer para nossos pares o que muitas vezes já conhecem. Congratulo-me com todos os Parlamentares, que desenvolvem trabalho importante, no intuito de resolver o problema do nosso povo, pensando unicamente nele.Quando assumimos a Presidência da Frente Parlamentar em Defesa da Indústria Aeronáutica Brasileira ou da Frente Parlamentar em Defesa das Santas Casas de Misericórdia e Entidades Filantrópicas, temos a certeza de que Deus nos concedeu esse destino para cumprir uma missão.Sr. Presidente, Sras. e Srs. Deputados, funcionários da Casa, aqueles que comungam com nosso ideal, muito obrigado por mais essa oportunidade.Era o que tinha a dizer.\n"
     ]
    }
   ],
   "source": [
    "print(df.original_discourse[397], \"\\n\\n\", \n",
    "      df.original_discourse[1464], \"\\n\\n\",\n",
    "      df.original_discourse[1703], \"\\n\\n\",\n",
    "      df.original_discourse[1927], \"\\n\\n\",\n",
    "      df.original_discourse[2430], \"\\n\\n\",\n",
    "      df.original_discourse[2431])"
   ]
  },
  {
   "cell_type": "markdown",
   "metadata": {
    "id": "8xEyY0qaN8cp"
   },
   "source": [
    "Thus, we remove these empty discourses and follow a 2nd approach to the copied dataset."
   ]
  },
  {
   "cell_type": "code",
   "execution_count": null,
   "metadata": {
    "id": "xxuK8FSNN8cq"
   },
   "outputs": [],
   "source": [
    "df.dropna(inplace=True)"
   ]
  },
  {
   "cell_type": "code",
   "execution_count": null,
   "metadata": {
    "id": "86xI4PQBN8cq"
   },
   "outputs": [],
   "source": [
    "# assert that the number of rows decreased\n",
    "assert df.shape[0] < size"
   ]
  },
  {
   "cell_type": "markdown",
   "metadata": {
    "id": "OnbF79x3N8cr"
   },
   "source": [
    "Now, it's time to process the 110 discourses left not covered by the previous approach."
   ]
  },
  {
   "cell_type": "code",
   "execution_count": null,
   "metadata": {
    "id": "EwkIOdIvN8cs"
   },
   "outputs": [],
   "source": [
    "df1 = df1.loc[null_speeches.index]"
   ]
  },
  {
   "cell_type": "code",
   "execution_count": null,
   "metadata": {
    "id": "u4V9YF-PN8cs"
   },
   "outputs": [],
   "source": [
    "assert df1.shape[0] == 110"
   ]
  },
  {
   "cell_type": "markdown",
   "metadata": {
    "id": "IN-yy5O0N8ct"
   },
   "source": [
    "**2nd approach:** now we split the data using the pattern of any word in capital letter, \"-\" followed by \"Sr.\" or \"Sra.\" and retrieve the last string obtained in the split:"
   ]
  },
  {
   "cell_type": "code",
   "execution_count": null,
   "metadata": {
    "id": "flGf9UapN8cu"
   },
   "outputs": [],
   "source": [
    "df1['clean_discourse'] = df1.original_discourse.str.split(\"[A-Z]+ - Sr\\.|Sra\\.\", n=1, expand=True)[1]"
   ]
  },
  {
   "cell_type": "markdown",
   "metadata": {
    "id": "ly5S3O_YN8cu"
   },
   "source": [
    "We still have inconsistent entries because there still is data with a different pattern."
   ]
  },
  {
   "cell_type": "code",
   "execution_count": null,
   "metadata": {
    "id": "3vYMnx2dN8cv",
    "outputId": "61a5fe5d-d6b4-49e6-e7b8-ec51ba6a6d1b"
   },
   "outputs": [
    {
     "name": "stdout",
     "output_type": "stream",
     "text": [
      "There are 53 null speeches\n"
     ]
    }
   ],
   "source": [
    "null_speeches_1 = df1.loc[df1.clean_discourse.isna()]\n",
    "print(\"There are %i null speeches\" % len(null_speeches_1))"
   ]
  },
  {
   "cell_type": "markdown",
   "metadata": {
    "id": "MJVL3nxvN8cx"
   },
   "source": [
    "Some entries do not fit the standards. We will have to modify them manually."
   ]
  },
  {
   "cell_type": "code",
   "execution_count": null,
   "metadata": {
    "id": "O9_eou8DN8cx",
    "outputId": "a83ef225-4567-49cf-f618-249dede6d47c"
   },
   "outputs": [
    {
     "name": "stdout",
     "output_type": "stream",
     "text": [
      "O SR. DEPUTADO HILDO ROCHA - Obrigado, Deputado Zé Geraldo, que preside esta Comissão Geral sobre os Correios e Telégrafos. Sras. e Srs. Deputados, convidados, Sr. Presidente dos Correios, demais representantes desta instituição, as dificuldades operacionais dos Correios no momento arrastam para a lama essa instituição que já esteve no topo como uma das mais confiáveis e respeitadas do nosso País. Nos últimos 10 anos, nós temos observado um processo de deterioração dessa importante instituição, um dos maiores patrimônios da sociedade brasileira. Sem dúvida nenhuma, o que ocorreu com os Correios não foi outra coisa senão a má gestão e os assaltos acontecidos na empresa. Isso já foi devidamente comprovado nas investigações sobre o mensalão e outros atos de corrupção que já foram apresentados a todo o povo brasileiro. É inaceitável que para debelar a crise dos Correios quem pague a pena sejam os usuários dos Correios, que é o povo brasileiro, e os funcionários dessa instituição. Onde há um Município há uma agência dos Correios. É a agência dos Correios que conecta o cidadão brasileiro que mora nos lugares mais afastados do Brasil. Na Região Amazônica, no Maranhão, em Municípios e povoados de difícil acesso, o cidadão tem assegurado pelo Estado o seu direito de receber correspondência, enviar telegrama, encaminhar encomenda. Se essa instituição for privatizada, logicamente essas comunidades deixarão de receber esses serviços. Nós pudemos observar isso com o sistema de telefonia móvel. Nas localidades mais afastadas do nosso País, mesmo com toda a força que os Governos têm feito para levar banda larga e melhorar o acesso à Internet, esses serviços não têm se concretizado. O mesmo acontecerá com os serviços prestados pelos Correios, porque uma empresa quer ter lucro. Uma empresas não quer se privar do lucro, e está certa. A empresa tem que se manter, tem que ter lucro mesmo. Ela não vai querer oferecer serviços nos Municípios mais distantes do nosso País. Por isso, é necessário que a mudança seja feita não por meio da transmissão desse patrimônio para a iniciativa privada, mas por meio da melhoria na gestão dessa empresa. Os Correios são um dos maiores empregadores do Brasil. Logicamente, com a mudança de seu capital para a iniciativa privada, muitos brasileiros serão demitidos. Com certeza, passando os Correios para a iniciativa privada, seis servidores serão massacrados, justamente aqueles que mais têm trabalhado pelos Correios. Por isso, eu me posiciono a favor de uma saída para os Correios que não seja essa que está sendo conduzida hoje pelo Ministro Kassab, que quer entregar para a iniciativa privada, sem mais nem menos, esse grande patrimônio da sociedade brasileira. Muito obrigado, Sr. Presidente, por esta oportunidade de falar aqui. (Palmas.)\n"
     ]
    }
   ],
   "source": [
    "print(df1.original_discourse[12220])"
   ]
  },
  {
   "cell_type": "code",
   "execution_count": null,
   "metadata": {
    "id": "G62SScDHN8cx",
    "outputId": "4aacca89-1ff9-403a-9ccb-a9412bb28eed"
   },
   "outputs": [
    {
     "name": "stderr",
     "output_type": "stream",
     "text": [
      "<ipython-input-56-7ac2f1896d02>:1: SettingWithCopyWarning: \n",
      "A value is trying to be set on a copy of a slice from a DataFrame\n",
      "\n",
      "See the caveats in the documentation: https://pandas.pydata.org/pandas-docs/stable/user_guide/indexing.html#returning-a-view-versus-a-copy\n",
      "  df1.clean_discourse[12220] = \"Obrigado, Deputado Zé Geraldo, que preside esta Comissão Geral sobre os Correios e Telégrafos. Sras. e Srs. Deputados, convidados, Sr. Presidente dos Correios, demais representantes desta instituição, as dificuldades operacionais dos Correios no momento arrastam para a lama essa instituição que já esteve no topo como uma das mais confiáveis e respeitadas do nosso País. Nos últimos 10 anos, nós temos observado um processo de deterioração dessa importante instituição, um dos maiores patrimônios da sociedade brasileira. Sem dúvida nenhuma, o que ocorreu com os Correios não foi outra coisa senão a má gestão e os assaltos acontecidos na empresa. Isso já foi devidamente comprovado nas investigações sobre o mensalão e outros atos de corrupção que já foram apresentados a todo o povo brasileiro. É inaceitável que para debelar a crise dos Correios quem pague a pena sejam os usuários dos Correios, que é o povo brasileiro, e os funcionários dessa instituição. Onde há um Município há uma agência dos Correios. É a agência dos Correios que conecta o cidadão brasileiro que mora nos lugares mais afastados do Brasil. Na Região Amazônica, no Maranhão, em Municípios e povoados de difícil acesso, o cidadão tem assegurado pelo Estado o seu direito de receber correspondência, enviar telegrama, encaminhar encomenda. Se essa instituição for privatizada, logicamente essas comunidades deixarão de receber esses serviços. Nós pudemos observar isso com o sistema de telefonia móvel. Nas localidades mais afastadas do nosso País, mesmo com toda a força que os Governos têm feito para levar banda larga e melhorar o acesso à Internet, esses serviços não têm se concretizado. O mesmo acontecerá com os serviços prestados pelos Correios, porque uma empresa quer ter lucro. Uma empresas não quer se privar do lucro, e está certa. A empresa tem que se manter, tem que ter lucro mesmo. Ela não vai querer oferecer serviços nos Municípios mais distantes do nosso País. Por isso, é necessário que a mudança seja feita não por meio da transmissão desse patrimônio para a iniciativa privada, mas por meio da melhoria na gestão dessa empresa. Os Correios são um dos maiores empregadores do Brasil. Logicamente, com a mudança de seu capital para a iniciativa privada, muitos brasileiros serão demitidos. Com certeza, passando os Correios para a iniciativa privada, seis servidores serão massacrados, justamente aqueles que mais têm trabalhado pelos Correios. Por isso, eu me posiciono a favor de uma saída para os Correios que não seja essa que está sendo conduzida hoje pelo Ministro Kassab, que quer entregar para a iniciativa privada, sem mais nem menos, esse grande patrimônio da sociedade brasileira. Muito obrigado, Sr. Presidente, por esta oportunidade de falar aqui.\"\n"
     ]
    }
   ],
   "source": [
    "df1.clean_discourse[12220] = \"Obrigado, Deputado Zé Geraldo, que preside esta Comissão Geral sobre os Correios e Telégrafos. Sras. e Srs. Deputados, convidados, Sr. Presidente dos Correios, demais representantes desta instituição, as dificuldades operacionais dos Correios no momento arrastam para a lama essa instituição que já esteve no topo como uma das mais confiáveis e respeitadas do nosso País. Nos últimos 10 anos, nós temos observado um processo de deterioração dessa importante instituição, um dos maiores patrimônios da sociedade brasileira. Sem dúvida nenhuma, o que ocorreu com os Correios não foi outra coisa senão a má gestão e os assaltos acontecidos na empresa. Isso já foi devidamente comprovado nas investigações sobre o mensalão e outros atos de corrupção que já foram apresentados a todo o povo brasileiro. É inaceitável que para debelar a crise dos Correios quem pague a pena sejam os usuários dos Correios, que é o povo brasileiro, e os funcionários dessa instituição. Onde há um Município há uma agência dos Correios. É a agência dos Correios que conecta o cidadão brasileiro que mora nos lugares mais afastados do Brasil. Na Região Amazônica, no Maranhão, em Municípios e povoados de difícil acesso, o cidadão tem assegurado pelo Estado o seu direito de receber correspondência, enviar telegrama, encaminhar encomenda. Se essa instituição for privatizada, logicamente essas comunidades deixarão de receber esses serviços. Nós pudemos observar isso com o sistema de telefonia móvel. Nas localidades mais afastadas do nosso País, mesmo com toda a força que os Governos têm feito para levar banda larga e melhorar o acesso à Internet, esses serviços não têm se concretizado. O mesmo acontecerá com os serviços prestados pelos Correios, porque uma empresa quer ter lucro. Uma empresas não quer se privar do lucro, e está certa. A empresa tem que se manter, tem que ter lucro mesmo. Ela não vai querer oferecer serviços nos Municípios mais distantes do nosso País. Por isso, é necessário que a mudança seja feita não por meio da transmissão desse patrimônio para a iniciativa privada, mas por meio da melhoria na gestão dessa empresa. Os Correios são um dos maiores empregadores do Brasil. Logicamente, com a mudança de seu capital para a iniciativa privada, muitos brasileiros serão demitidos. Com certeza, passando os Correios para a iniciativa privada, seis servidores serão massacrados, justamente aqueles que mais têm trabalhado pelos Correios. Por isso, eu me posiciono a favor de uma saída para os Correios que não seja essa que está sendo conduzida hoje pelo Ministro Kassab, que quer entregar para a iniciativa privada, sem mais nem menos, esse grande patrimônio da sociedade brasileira. Muito obrigado, Sr. Presidente, por esta oportunidade de falar aqui.\""
   ]
  },
  {
   "cell_type": "markdown",
   "metadata": {
    "id": "fJsWvNx5N8cy"
   },
   "source": [
    "We can see we still have null entries but we can come up with a solution for them:"
   ]
  },
  {
   "cell_type": "code",
   "execution_count": null,
   "metadata": {
    "id": "Xcjqyk1RN8cz",
    "outputId": "c5e17e18-7732-49cc-a2f5-3f49431d55be"
   },
   "outputs": [
    {
     "name": "stdout",
     "output_type": "stream",
     "text": [
      "There are 40 null speeches\n"
     ]
    }
   ],
   "source": [
    "null_speeches_1 = df1.loc[df1.clean_discourse.isna()]\n",
    "print(\"There are %i null speeches\" % len(null_speeches_1))"
   ]
  },
  {
   "cell_type": "code",
   "execution_count": null,
   "metadata": {
    "id": "b2kCnwZvN8c0",
    "outputId": "a6780b74-2af9-4222-bdde-76a173352124"
   },
   "outputs": [
    {
     "data": {
      "text/html": [
       "<div>\n",
       "<style scoped>\n",
       "    .dataframe tbody tr th:only-of-type {\n",
       "        vertical-align: middle;\n",
       "    }\n",
       "\n",
       "    .dataframe tbody tr th {\n",
       "        vertical-align: top;\n",
       "    }\n",
       "\n",
       "    .dataframe thead th {\n",
       "        text-align: right;\n",
       "    }\n",
       "</style>\n",
       "<table border=\"1\" class=\"dataframe\">\n",
       "  <thead>\n",
       "    <tr style=\"text-align: right;\">\n",
       "      <th></th>\n",
       "      <th>date</th>\n",
       "      <th>session</th>\n",
       "      <th>phase</th>\n",
       "      <th>discourse_link</th>\n",
       "      <th>speaker</th>\n",
       "      <th>party</th>\n",
       "      <th>coalition</th>\n",
       "      <th>state</th>\n",
       "      <th>region</th>\n",
       "      <th>original_discourse</th>\n",
       "      <th>clean_discourse</th>\n",
       "    </tr>\n",
       "  </thead>\n",
       "  <tbody>\n",
       "    <tr>\n",
       "      <th>12491</th>\n",
       "      <td>2017-09-27</td>\n",
       "      <td>278.3.55.O</td>\n",
       "      <td>opening</td>\n",
       "      <td>https://www.camara.leg.br/internet/sitaqweb/Te...</td>\n",
       "      <td>carlos manato</td>\n",
       "      <td>solidariedade</td>\n",
       "      <td>0</td>\n",
       "      <td>es</td>\n",
       "      <td>southeast</td>\n",
       "      <td>Ata da 278ª (ducentésima septuagésima oitava) ...</td>\n",
       "      <td>None</td>\n",
       "    </tr>\n",
       "    <tr>\n",
       "      <th>12570</th>\n",
       "      <td>2017-11-21</td>\n",
       "      <td>349.3.55.O</td>\n",
       "      <td>general committee</td>\n",
       "      <td>https://www.camara.leg.br/internet/sitaqweb/Te...</td>\n",
       "      <td>edmilson rodrigues</td>\n",
       "      <td>psol</td>\n",
       "      <td>0</td>\n",
       "      <td>pa</td>\n",
       "      <td>north</td>\n",
       "      <td>O SR. DEPUTADO EDMILSON RODRIGUES - Esta sessã...</td>\n",
       "      <td>None</td>\n",
       "    </tr>\n",
       "    <tr>\n",
       "      <th>12739</th>\n",
       "      <td>2018-04-09</td>\n",
       "      <td>203.2018</td>\n",
       "      <td>closure</td>\n",
       "      <td>https://www.camara.leg.br/internet/sitaqweb/Te...</td>\n",
       "      <td>prof. gedeão amorim</td>\n",
       "      <td>mdb</td>\n",
       "      <td>1</td>\n",
       "      <td>am</td>\n",
       "      <td>north</td>\n",
       "      <td>DISCURSO NA ÍNTEGRA ENCAMINHADO PELO SR. DEPUT...</td>\n",
       "      <td>None</td>\n",
       "    </tr>\n",
       "    <tr>\n",
       "      <th>12865</th>\n",
       "      <td>2018-08-08</td>\n",
       "      <td>192.2018</td>\n",
       "      <td>closure</td>\n",
       "      <td>https://www.camara.leg.br/internet/sitaqweb/Te...</td>\n",
       "      <td>stefano aguiar</td>\n",
       "      <td>psd</td>\n",
       "      <td>1</td>\n",
       "      <td>mg</td>\n",
       "      <td>southeast</td>\n",
       "      <td>DISCURSO ENCAMINHADO À MESA PARA PUBLICAÇÃO. D...</td>\n",
       "      <td>None</td>\n",
       "    </tr>\n",
       "    <tr>\n",
       "      <th>12894</th>\n",
       "      <td>2018-10-16</td>\n",
       "      <td>216.2018</td>\n",
       "      <td>closure</td>\n",
       "      <td>https://www.camara.leg.br/internet/sitaqweb/Te...</td>\n",
       "      <td>leonardo monteiro</td>\n",
       "      <td>pt</td>\n",
       "      <td>0</td>\n",
       "      <td>mg</td>\n",
       "      <td>southeast</td>\n",
       "      <td>DISCURSO NA ÍNTEGRA ENCAMINHADO PELO SR. DEPUT...</td>\n",
       "      <td>None</td>\n",
       "    </tr>\n",
       "  </tbody>\n",
       "</table>\n",
       "</div>"
      ],
      "text/plain": [
       "             date     session              phase  \\\n",
       "12491  2017-09-27  278.3.55.O            opening   \n",
       "12570  2017-11-21  349.3.55.O  general committee   \n",
       "12739  2018-04-09    203.2018            closure   \n",
       "12865  2018-08-08    192.2018            closure   \n",
       "12894  2018-10-16    216.2018            closure   \n",
       "\n",
       "                                          discourse_link              speaker  \\\n",
       "12491  https://www.camara.leg.br/internet/sitaqweb/Te...        carlos manato   \n",
       "12570  https://www.camara.leg.br/internet/sitaqweb/Te...   edmilson rodrigues   \n",
       "12739  https://www.camara.leg.br/internet/sitaqweb/Te...  prof. gedeão amorim   \n",
       "12865  https://www.camara.leg.br/internet/sitaqweb/Te...       stefano aguiar   \n",
       "12894  https://www.camara.leg.br/internet/sitaqweb/Te...    leonardo monteiro   \n",
       "\n",
       "               party  coalition state     region  \\\n",
       "12491  solidariedade          0    es  southeast   \n",
       "12570           psol          0    pa      north   \n",
       "12739            mdb          1    am      north   \n",
       "12865            psd          1    mg  southeast   \n",
       "12894             pt          0    mg  southeast   \n",
       "\n",
       "                                      original_discourse clean_discourse  \n",
       "12491  Ata da 278ª (ducentésima septuagésima oitava) ...            None  \n",
       "12570  O SR. DEPUTADO EDMILSON RODRIGUES - Esta sessã...            None  \n",
       "12739  DISCURSO NA ÍNTEGRA ENCAMINHADO PELO SR. DEPUT...            None  \n",
       "12865  DISCURSO ENCAMINHADO À MESA PARA PUBLICAÇÃO. D...            None  \n",
       "12894  DISCURSO NA ÍNTEGRA ENCAMINHADO PELO SR. DEPUT...            None  "
      ]
     },
     "execution_count": 61,
     "metadata": {},
     "output_type": "execute_result"
    }
   ],
   "source": [
    "df1[df1.clean_discourse.isna()][:5]"
   ]
  },
  {
   "cell_type": "code",
   "execution_count": null,
   "metadata": {
    "id": "WVOYvVKtN8c1",
    "outputId": "57ac71c0-38d1-4264-a72c-43df5b194cc6"
   },
   "outputs": [
    {
     "name": "stdout",
     "output_type": "stream",
     "text": [
      "110\n"
     ]
    }
   ],
   "source": [
    "# let's create a copy for the df1\n",
    "df2 = df1.copy()\n",
    "print(df2.shape[0])"
   ]
  },
  {
   "cell_type": "markdown",
   "metadata": {
    "id": "MM8OAPzcN8c1"
   },
   "source": [
    "Thus, we remove the empty speeches and follow a third approach to the copied dataset."
   ]
  },
  {
   "cell_type": "code",
   "execution_count": null,
   "metadata": {
    "id": "wnpV9kyYN8c2"
   },
   "outputs": [],
   "source": [
    "df1.dropna(inplace=True)"
   ]
  },
  {
   "cell_type": "code",
   "execution_count": null,
   "metadata": {
    "id": "Kx1XADtrN8c2"
   },
   "outputs": [],
   "source": [
    "df2 = df2.loc[null_speeches_1.index]"
   ]
  },
  {
   "cell_type": "code",
   "execution_count": null,
   "metadata": {
    "id": "hXLSDukPN8c4",
    "outputId": "9303e28f-2057-4845-9b3e-236e0abec85d"
   },
   "outputs": [
    {
     "data": {
      "text/html": [
       "<div>\n",
       "<style scoped>\n",
       "    .dataframe tbody tr th:only-of-type {\n",
       "        vertical-align: middle;\n",
       "    }\n",
       "\n",
       "    .dataframe tbody tr th {\n",
       "        vertical-align: top;\n",
       "    }\n",
       "\n",
       "    .dataframe thead th {\n",
       "        text-align: right;\n",
       "    }\n",
       "</style>\n",
       "<table border=\"1\" class=\"dataframe\">\n",
       "  <thead>\n",
       "    <tr style=\"text-align: right;\">\n",
       "      <th></th>\n",
       "      <th>date</th>\n",
       "      <th>session</th>\n",
       "      <th>phase</th>\n",
       "      <th>discourse_link</th>\n",
       "      <th>speaker</th>\n",
       "      <th>party</th>\n",
       "      <th>coalition</th>\n",
       "      <th>state</th>\n",
       "      <th>region</th>\n",
       "      <th>original_discourse</th>\n",
       "      <th>clean_discourse</th>\n",
       "    </tr>\n",
       "  </thead>\n",
       "  <tbody>\n",
       "    <tr>\n",
       "      <th>12491</th>\n",
       "      <td>2017-09-27</td>\n",
       "      <td>278.3.55.O</td>\n",
       "      <td>opening</td>\n",
       "      <td>https://www.camara.leg.br/internet/sitaqweb/Te...</td>\n",
       "      <td>carlos manato</td>\n",
       "      <td>solidariedade</td>\n",
       "      <td>0</td>\n",
       "      <td>es</td>\n",
       "      <td>southeast</td>\n",
       "      <td>Ata da 278ª (ducentésima septuagésima oitava) ...</td>\n",
       "      <td>None</td>\n",
       "    </tr>\n",
       "    <tr>\n",
       "      <th>12570</th>\n",
       "      <td>2017-11-21</td>\n",
       "      <td>349.3.55.O</td>\n",
       "      <td>general committee</td>\n",
       "      <td>https://www.camara.leg.br/internet/sitaqweb/Te...</td>\n",
       "      <td>edmilson rodrigues</td>\n",
       "      <td>psol</td>\n",
       "      <td>0</td>\n",
       "      <td>pa</td>\n",
       "      <td>north</td>\n",
       "      <td>O SR. DEPUTADO EDMILSON RODRIGUES - Esta sessã...</td>\n",
       "      <td>None</td>\n",
       "    </tr>\n",
       "    <tr>\n",
       "      <th>12739</th>\n",
       "      <td>2018-04-09</td>\n",
       "      <td>203.2018</td>\n",
       "      <td>closure</td>\n",
       "      <td>https://www.camara.leg.br/internet/sitaqweb/Te...</td>\n",
       "      <td>prof. gedeão amorim</td>\n",
       "      <td>mdb</td>\n",
       "      <td>1</td>\n",
       "      <td>am</td>\n",
       "      <td>north</td>\n",
       "      <td>DISCURSO NA ÍNTEGRA ENCAMINHADO PELO SR. DEPUT...</td>\n",
       "      <td>None</td>\n",
       "    </tr>\n",
       "    <tr>\n",
       "      <th>12865</th>\n",
       "      <td>2018-08-08</td>\n",
       "      <td>192.2018</td>\n",
       "      <td>closure</td>\n",
       "      <td>https://www.camara.leg.br/internet/sitaqweb/Te...</td>\n",
       "      <td>stefano aguiar</td>\n",
       "      <td>psd</td>\n",
       "      <td>1</td>\n",
       "      <td>mg</td>\n",
       "      <td>southeast</td>\n",
       "      <td>DISCURSO ENCAMINHADO À MESA PARA PUBLICAÇÃO. D...</td>\n",
       "      <td>None</td>\n",
       "    </tr>\n",
       "    <tr>\n",
       "      <th>12894</th>\n",
       "      <td>2018-10-16</td>\n",
       "      <td>216.2018</td>\n",
       "      <td>closure</td>\n",
       "      <td>https://www.camara.leg.br/internet/sitaqweb/Te...</td>\n",
       "      <td>leonardo monteiro</td>\n",
       "      <td>pt</td>\n",
       "      <td>0</td>\n",
       "      <td>mg</td>\n",
       "      <td>southeast</td>\n",
       "      <td>DISCURSO NA ÍNTEGRA ENCAMINHADO PELO SR. DEPUT...</td>\n",
       "      <td>None</td>\n",
       "    </tr>\n",
       "  </tbody>\n",
       "</table>\n",
       "</div>"
      ],
      "text/plain": [
       "             date     session              phase  \\\n",
       "12491  2017-09-27  278.3.55.O            opening   \n",
       "12570  2017-11-21  349.3.55.O  general committee   \n",
       "12739  2018-04-09    203.2018            closure   \n",
       "12865  2018-08-08    192.2018            closure   \n",
       "12894  2018-10-16    216.2018            closure   \n",
       "\n",
       "                                          discourse_link              speaker  \\\n",
       "12491  https://www.camara.leg.br/internet/sitaqweb/Te...        carlos manato   \n",
       "12570  https://www.camara.leg.br/internet/sitaqweb/Te...   edmilson rodrigues   \n",
       "12739  https://www.camara.leg.br/internet/sitaqweb/Te...  prof. gedeão amorim   \n",
       "12865  https://www.camara.leg.br/internet/sitaqweb/Te...       stefano aguiar   \n",
       "12894  https://www.camara.leg.br/internet/sitaqweb/Te...    leonardo monteiro   \n",
       "\n",
       "               party  coalition state     region  \\\n",
       "12491  solidariedade          0    es  southeast   \n",
       "12570           psol          0    pa      north   \n",
       "12739            mdb          1    am      north   \n",
       "12865            psd          1    mg  southeast   \n",
       "12894             pt          0    mg  southeast   \n",
       "\n",
       "                                      original_discourse clean_discourse  \n",
       "12491  Ata da 278ª (ducentésima septuagésima oitava) ...            None  \n",
       "12570  O SR. DEPUTADO EDMILSON RODRIGUES - Esta sessã...            None  \n",
       "12739  DISCURSO NA ÍNTEGRA ENCAMINHADO PELO SR. DEPUT...            None  \n",
       "12865  DISCURSO ENCAMINHADO À MESA PARA PUBLICAÇÃO. D...            None  \n",
       "12894  DISCURSO NA ÍNTEGRA ENCAMINHADO PELO SR. DEPUT...            None  "
      ]
     },
     "execution_count": 65,
     "metadata": {},
     "output_type": "execute_result"
    }
   ],
   "source": [
    "df2.head()"
   ]
  },
  {
   "cell_type": "markdown",
   "metadata": {
    "id": "iHB9Hk8HN8c8"
   },
   "source": [
    "**3rd approach:** we split the data using the pattern \"e Srs. Deputados,\" and retrieve the last string obtained in the split:"
   ]
  },
  {
   "cell_type": "code",
   "execution_count": null,
   "metadata": {
    "id": "uVO6yiKnN8c9"
   },
   "outputs": [],
   "source": [
    "df2['clean_discourse'] = df2.original_discourse.str.split(\"e Srs. Deputados,\", n=1, expand=True)[1]"
   ]
  },
  {
   "cell_type": "markdown",
   "metadata": {
    "id": "eA_nOJaHN8c9"
   },
   "source": [
    "There's a few null entries, we'll fill then manually.\n"
   ]
  },
  {
   "cell_type": "code",
   "execution_count": null,
   "metadata": {
    "id": "bSbwEOT6N8c9",
    "outputId": "c77c1f5d-de36-444c-e459-589bcb7921ed"
   },
   "outputs": [
    {
     "data": {
      "text/html": [
       "<div>\n",
       "<style scoped>\n",
       "    .dataframe tbody tr th:only-of-type {\n",
       "        vertical-align: middle;\n",
       "    }\n",
       "\n",
       "    .dataframe tbody tr th {\n",
       "        vertical-align: top;\n",
       "    }\n",
       "\n",
       "    .dataframe thead th {\n",
       "        text-align: right;\n",
       "    }\n",
       "</style>\n",
       "<table border=\"1\" class=\"dataframe\">\n",
       "  <thead>\n",
       "    <tr style=\"text-align: right;\">\n",
       "      <th></th>\n",
       "      <th>date</th>\n",
       "      <th>session</th>\n",
       "      <th>phase</th>\n",
       "      <th>discourse_link</th>\n",
       "      <th>speaker</th>\n",
       "      <th>party</th>\n",
       "      <th>coalition</th>\n",
       "      <th>state</th>\n",
       "      <th>region</th>\n",
       "      <th>original_discourse</th>\n",
       "      <th>clean_discourse</th>\n",
       "    </tr>\n",
       "  </thead>\n",
       "  <tbody>\n",
       "    <tr>\n",
       "      <th>12491</th>\n",
       "      <td>2017-09-27</td>\n",
       "      <td>278.3.55.O</td>\n",
       "      <td>opening</td>\n",
       "      <td>https://www.camara.leg.br/internet/sitaqweb/Te...</td>\n",
       "      <td>carlos manato</td>\n",
       "      <td>solidariedade</td>\n",
       "      <td>0</td>\n",
       "      <td>es</td>\n",
       "      <td>southeast</td>\n",
       "      <td>Ata da 278ª (ducentésima septuagésima oitava) ...</td>\n",
       "      <td>None</td>\n",
       "    </tr>\n",
       "    <tr>\n",
       "      <th>12570</th>\n",
       "      <td>2017-11-21</td>\n",
       "      <td>349.3.55.O</td>\n",
       "      <td>general committee</td>\n",
       "      <td>https://www.camara.leg.br/internet/sitaqweb/Te...</td>\n",
       "      <td>edmilson rodrigues</td>\n",
       "      <td>psol</td>\n",
       "      <td>0</td>\n",
       "      <td>pa</td>\n",
       "      <td>north</td>\n",
       "      <td>O SR. DEPUTADO EDMILSON RODRIGUES - Esta sessã...</td>\n",
       "      <td>None</td>\n",
       "    </tr>\n",
       "    <tr>\n",
       "      <th>12894</th>\n",
       "      <td>2018-10-16</td>\n",
       "      <td>216.2018</td>\n",
       "      <td>closure</td>\n",
       "      <td>https://www.camara.leg.br/internet/sitaqweb/Te...</td>\n",
       "      <td>leonardo monteiro</td>\n",
       "      <td>pt</td>\n",
       "      <td>0</td>\n",
       "      <td>mg</td>\n",
       "      <td>southeast</td>\n",
       "      <td>DISCURSO NA ÍNTEGRA ENCAMINHADO PELO SR. DEPUT...</td>\n",
       "      <td>None</td>\n",
       "    </tr>\n",
       "    <tr>\n",
       "      <th>13110</th>\n",
       "      <td>2019-04-09</td>\n",
       "      <td>255.2019</td>\n",
       "      <td>general committee</td>\n",
       "      <td>https://www.camara.leg.br/internet/sitaqweb/Te...</td>\n",
       "      <td>rodrigo maia</td>\n",
       "      <td>dem</td>\n",
       "      <td>0</td>\n",
       "      <td>rj</td>\n",
       "      <td>southeast</td>\n",
       "      <td>DISCURSO NA ÍNTEGRA ENCAMINHADO PELO SR. DEPUT...</td>\n",
       "      <td>None</td>\n",
       "    </tr>\n",
       "    <tr>\n",
       "      <th>13714</th>\n",
       "      <td>2019-11-09</td>\n",
       "      <td>268.2019</td>\n",
       "      <td>closure</td>\n",
       "      <td>https://www.camara.leg.br/internet/sitaqweb/Te...</td>\n",
       "      <td>acácio favacho</td>\n",
       "      <td>pros</td>\n",
       "      <td>0</td>\n",
       "      <td>ap</td>\n",
       "      <td>north</td>\n",
       "      <td>DISCURSO NA ÍNTEGRA ENCAMINHADO PELO SR. DEPUT...</td>\n",
       "      <td>None</td>\n",
       "    </tr>\n",
       "    <tr>\n",
       "      <th>13717</th>\n",
       "      <td>2019-11-09</td>\n",
       "      <td>267.2019</td>\n",
       "      <td>closure</td>\n",
       "      <td>https://www.camara.leg.br/internet/sitaqweb/Te...</td>\n",
       "      <td>josé nelto</td>\n",
       "      <td>pode</td>\n",
       "      <td>0</td>\n",
       "      <td>go</td>\n",
       "      <td>midwest</td>\n",
       "      <td>DISCURSO NA ÍNTEGRA ENCAMINHADO PELO SR. DEPUT...</td>\n",
       "      <td>None</td>\n",
       "    </tr>\n",
       "    <tr>\n",
       "      <th>13840</th>\n",
       "      <td>2020-02-18</td>\n",
       "      <td>17.202</td>\n",
       "      <td>closure</td>\n",
       "      <td>https://www.camara.leg.br/internet/sitaqweb/Te...</td>\n",
       "      <td>capitão alberto neto</td>\n",
       "      <td>republicanos</td>\n",
       "      <td>0</td>\n",
       "      <td>am</td>\n",
       "      <td>north</td>\n",
       "      <td>DISCURSO NA ÍNTEGRA ENCAMINHADO PELO SR. DEPUT...</td>\n",
       "      <td>None</td>\n",
       "    </tr>\n",
       "    <tr>\n",
       "      <th>14428</th>\n",
       "      <td>2021-09-09</td>\n",
       "      <td>101.2021</td>\n",
       "      <td>closure</td>\n",
       "      <td>https://www.camara.leg.br/internet/sitaqweb/Te...</td>\n",
       "      <td>wolney queiroz</td>\n",
       "      <td>pdt</td>\n",
       "      <td>0</td>\n",
       "      <td>pe</td>\n",
       "      <td>northeast</td>\n",
       "      <td>DISCURSO NA ÍNTEGRA ENCAMINHADO PELO SR. DEPUT...</td>\n",
       "      <td>None</td>\n",
       "    </tr>\n",
       "    <tr>\n",
       "      <th>14513</th>\n",
       "      <td>2021-10-14</td>\n",
       "      <td>121.2021</td>\n",
       "      <td>closure</td>\n",
       "      <td>https://www.camara.leg.br/internet/sitaqweb/Te...</td>\n",
       "      <td>capitão alberto neto</td>\n",
       "      <td>republicanos</td>\n",
       "      <td>0</td>\n",
       "      <td>am</td>\n",
       "      <td>north</td>\n",
       "      <td>DISCURSO NA ÍNTEGRA ENCAMINHADO PELO SR. DEPUT...</td>\n",
       "      <td>None</td>\n",
       "    </tr>\n",
       "    <tr>\n",
       "      <th>14541</th>\n",
       "      <td>2021-10-28</td>\n",
       "      <td>128.2021</td>\n",
       "      <td>closure</td>\n",
       "      <td>https://www.camara.leg.br/internet/sitaqweb/Te...</td>\n",
       "      <td>helder salomão</td>\n",
       "      <td>pt</td>\n",
       "      <td>0</td>\n",
       "      <td>es</td>\n",
       "      <td>southeast</td>\n",
       "      <td>DISCURSO NA ÍNTEGRA ENCAMINHADO PELO SR. DEPUT...</td>\n",
       "      <td>None</td>\n",
       "    </tr>\n",
       "    <tr>\n",
       "      <th>14555</th>\n",
       "      <td>2021-11-16</td>\n",
       "      <td>136.2021</td>\n",
       "      <td>closure</td>\n",
       "      <td>https://www.camara.leg.br/internet/sitaqweb/Te...</td>\n",
       "      <td>nilto tatto</td>\n",
       "      <td>pt</td>\n",
       "      <td>0</td>\n",
       "      <td>sp</td>\n",
       "      <td>southeast</td>\n",
       "      <td>DISCURSO NA ÍNTEGRA ENCAMINHADO PELO SR. DEPUT...</td>\n",
       "      <td>None</td>\n",
       "    </tr>\n",
       "  </tbody>\n",
       "</table>\n",
       "</div>"
      ],
      "text/plain": [
       "             date     session              phase  \\\n",
       "12491  2017-09-27  278.3.55.O            opening   \n",
       "12570  2017-11-21  349.3.55.O  general committee   \n",
       "12894  2018-10-16    216.2018            closure   \n",
       "13110  2019-04-09    255.2019  general committee   \n",
       "13714  2019-11-09    268.2019            closure   \n",
       "13717  2019-11-09    267.2019            closure   \n",
       "13840  2020-02-18      17.202            closure   \n",
       "14428  2021-09-09    101.2021            closure   \n",
       "14513  2021-10-14    121.2021            closure   \n",
       "14541  2021-10-28    128.2021            closure   \n",
       "14555  2021-11-16    136.2021            closure   \n",
       "\n",
       "                                          discourse_link  \\\n",
       "12491  https://www.camara.leg.br/internet/sitaqweb/Te...   \n",
       "12570  https://www.camara.leg.br/internet/sitaqweb/Te...   \n",
       "12894  https://www.camara.leg.br/internet/sitaqweb/Te...   \n",
       "13110  https://www.camara.leg.br/internet/sitaqweb/Te...   \n",
       "13714  https://www.camara.leg.br/internet/sitaqweb/Te...   \n",
       "13717  https://www.camara.leg.br/internet/sitaqweb/Te...   \n",
       "13840  https://www.camara.leg.br/internet/sitaqweb/Te...   \n",
       "14428  https://www.camara.leg.br/internet/sitaqweb/Te...   \n",
       "14513  https://www.camara.leg.br/internet/sitaqweb/Te...   \n",
       "14541  https://www.camara.leg.br/internet/sitaqweb/Te...   \n",
       "14555  https://www.camara.leg.br/internet/sitaqweb/Te...   \n",
       "\n",
       "                    speaker          party  coalition state     region  \\\n",
       "12491         carlos manato  solidariedade          0    es  southeast   \n",
       "12570    edmilson rodrigues           psol          0    pa      north   \n",
       "12894     leonardo monteiro             pt          0    mg  southeast   \n",
       "13110          rodrigo maia            dem          0    rj  southeast   \n",
       "13714        acácio favacho           pros          0    ap      north   \n",
       "13717            josé nelto           pode          0    go    midwest   \n",
       "13840  capitão alberto neto   republicanos          0    am      north   \n",
       "14428        wolney queiroz            pdt          0    pe  northeast   \n",
       "14513  capitão alberto neto   republicanos          0    am      north   \n",
       "14541        helder salomão             pt          0    es  southeast   \n",
       "14555           nilto tatto             pt          0    sp  southeast   \n",
       "\n",
       "                                      original_discourse clean_discourse  \n",
       "12491  Ata da 278ª (ducentésima septuagésima oitava) ...            None  \n",
       "12570  O SR. DEPUTADO EDMILSON RODRIGUES - Esta sessã...            None  \n",
       "12894  DISCURSO NA ÍNTEGRA ENCAMINHADO PELO SR. DEPUT...            None  \n",
       "13110  DISCURSO NA ÍNTEGRA ENCAMINHADO PELO SR. DEPUT...            None  \n",
       "13714  DISCURSO NA ÍNTEGRA ENCAMINHADO PELO SR. DEPUT...            None  \n",
       "13717  DISCURSO NA ÍNTEGRA ENCAMINHADO PELO SR. DEPUT...            None  \n",
       "13840  DISCURSO NA ÍNTEGRA ENCAMINHADO PELO SR. DEPUT...            None  \n",
       "14428  DISCURSO NA ÍNTEGRA ENCAMINHADO PELO SR. DEPUT...            None  \n",
       "14513  DISCURSO NA ÍNTEGRA ENCAMINHADO PELO SR. DEPUT...            None  \n",
       "14541  DISCURSO NA ÍNTEGRA ENCAMINHADO PELO SR. DEPUT...            None  \n",
       "14555  DISCURSO NA ÍNTEGRA ENCAMINHADO PELO SR. DEPUT...            None  "
      ]
     },
     "execution_count": 67,
     "metadata": {},
     "output_type": "execute_result"
    }
   ],
   "source": [
    "df2[df2.clean_discourse.isna()]"
   ]
  },
  {
   "cell_type": "code",
   "execution_count": null,
   "metadata": {
    "id": "Icx-50PXN8dB",
    "outputId": "22fba0f1-925d-44f4-e5c9-e3b58e04b3ee"
   },
   "outputs": [
    {
     "name": "stdout",
     "output_type": "stream",
     "text": [
      "There are 0 null speeches\n"
     ]
    }
   ],
   "source": [
    "null_speeches_2 = df2.loc[df2.clean_discourse.isna()]\n",
    "print(\"There are %i null speeches\" % len(null_speeches_2))"
   ]
  },
  {
   "cell_type": "markdown",
   "metadata": {
    "id": "vRR32K99N8dE"
   },
   "source": [
    "We can merge the data frame again."
   ]
  },
  {
   "cell_type": "code",
   "execution_count": null,
   "metadata": {
    "id": "m7WZR74hN8dF",
    "outputId": "14c6b105-5175-449d-fc4c-fa8facdeee16"
   },
   "outputs": [
    {
     "name": "stdout",
     "output_type": "stream",
     "text": [
      "110\n"
     ]
    }
   ],
   "source": [
    "df1 = df1.append(df2)\n",
    "print(df1.shape[0])"
   ]
  },
  {
   "cell_type": "code",
   "execution_count": null,
   "metadata": {
    "id": "kenlhUGFN8dH",
    "outputId": "7cbc0b0d-c4b5-4fe7-996a-b098cfbfbe28"
   },
   "outputs": [
    {
     "name": "stdout",
     "output_type": "stream",
     "text": [
      "14602\n"
     ]
    }
   ],
   "source": [
    "df = df.append(df1)\n",
    "print(df.shape[0])"
   ]
  },
  {
   "cell_type": "code",
   "execution_count": null,
   "metadata": {
    "id": "4d2s6znQN8dH",
    "outputId": "0275e7a9-9506-4bd9-a8dc-b19dd2608210"
   },
   "outputs": [
    {
     "data": {
      "text/html": [
       "<div>\n",
       "<style scoped>\n",
       "    .dataframe tbody tr th:only-of-type {\n",
       "        vertical-align: middle;\n",
       "    }\n",
       "\n",
       "    .dataframe tbody tr th {\n",
       "        vertical-align: top;\n",
       "    }\n",
       "\n",
       "    .dataframe thead th {\n",
       "        text-align: right;\n",
       "    }\n",
       "</style>\n",
       "<table border=\"1\" class=\"dataframe\">\n",
       "  <thead>\n",
       "    <tr style=\"text-align: right;\">\n",
       "      <th></th>\n",
       "      <th>date</th>\n",
       "      <th>session</th>\n",
       "      <th>phase</th>\n",
       "      <th>discourse_link</th>\n",
       "      <th>speaker</th>\n",
       "      <th>party</th>\n",
       "      <th>coalition</th>\n",
       "      <th>state</th>\n",
       "      <th>region</th>\n",
       "      <th>original_discourse</th>\n",
       "      <th>clean_discourse</th>\n",
       "    </tr>\n",
       "  </thead>\n",
       "  <tbody>\n",
       "    <tr>\n",
       "      <th>0</th>\n",
       "      <td>2000-01-11</td>\n",
       "      <td>195.2.51.O</td>\n",
       "      <td>short address</td>\n",
       "      <td>https://www.camara.leg.br/internet/SitaqWeb/Te...</td>\n",
       "      <td>nilton capixaba</td>\n",
       "      <td>ptb</td>\n",
       "      <td>0</td>\n",
       "      <td>ro</td>\n",
       "      <td>north</td>\n",
       "      <td>O SR. NILTON CAPIXABA (PTB-RO. Pronuncia o seg...</td>\n",
       "      <td>Sr. Presidente, Sras. e Srs. Deputados, na se...</td>\n",
       "    </tr>\n",
       "    <tr>\n",
       "      <th>1</th>\n",
       "      <td>2000-01-11</td>\n",
       "      <td>195.2.51.O</td>\n",
       "      <td>parliamentarian communications</td>\n",
       "      <td>https://www.camara.leg.br/internet/SitaqWeb/Te...</td>\n",
       "      <td>sérgio novais</td>\n",
       "      <td>psb</td>\n",
       "      <td>0</td>\n",
       "      <td>ce</td>\n",
       "      <td>northeast</td>\n",
       "      <td>O SR. SÉRGIO NOVAIS (Bloco/PSB-CE. Como Líder....</td>\n",
       "      <td>Sr. Presidente, Sras. e Srs. Deputados, prime...</td>\n",
       "    </tr>\n",
       "    <tr>\n",
       "      <th>2</th>\n",
       "      <td>2000-01-11</td>\n",
       "      <td>195.2.51.O</td>\n",
       "      <td>short address</td>\n",
       "      <td>https://www.camara.leg.br/internet/SitaqWeb/Te...</td>\n",
       "      <td>marcos afonso</td>\n",
       "      <td>pt</td>\n",
       "      <td>0</td>\n",
       "      <td>ac</td>\n",
       "      <td>north</td>\n",
       "      <td>O SR. MARCOS AFONSO (PT-AC. Pronuncia o seguin...</td>\n",
       "      <td>Sr. Presidente, Sras. e Srs. Deputados, venho...</td>\n",
       "    </tr>\n",
       "    <tr>\n",
       "      <th>3</th>\n",
       "      <td>2000-01-11</td>\n",
       "      <td>195.2.51.O</td>\n",
       "      <td>short address</td>\n",
       "      <td>https://www.camara.leg.br/internet/SitaqWeb/Te...</td>\n",
       "      <td>expedito júnior</td>\n",
       "      <td>dem</td>\n",
       "      <td>1</td>\n",
       "      <td>ro</td>\n",
       "      <td>north</td>\n",
       "      <td>O SR . EXPEDITO JÚNIOR (PFL-RO. Pronuncia o se...</td>\n",
       "      <td>Sr. Presidente, Sras. e Srs. Deputados, pode ...</td>\n",
       "    </tr>\n",
       "    <tr>\n",
       "      <th>4</th>\n",
       "      <td>2000-03-11</td>\n",
       "      <td>196.2.51.O</td>\n",
       "      <td>long address</td>\n",
       "      <td>https://www.camara.leg.br/internet/SitaqWeb/Te...</td>\n",
       "      <td>silas câmara</td>\n",
       "      <td>ptb</td>\n",
       "      <td>0</td>\n",
       "      <td>am</td>\n",
       "      <td>north</td>\n",
       "      <td>O SR. SILAS CÂMARA (PTB-AM. Sem revisão do ora...</td>\n",
       "      <td>Sr. Presidente, Sras. e Srs. Deputados, é com...</td>\n",
       "    </tr>\n",
       "    <tr>\n",
       "      <th>...</th>\n",
       "      <td>...</td>\n",
       "      <td>...</td>\n",
       "      <td>...</td>\n",
       "      <td>...</td>\n",
       "      <td>...</td>\n",
       "      <td>...</td>\n",
       "      <td>...</td>\n",
       "      <td>...</td>\n",
       "      <td>...</td>\n",
       "      <td>...</td>\n",
       "      <td>...</td>\n",
       "    </tr>\n",
       "    <tr>\n",
       "      <th>14435</th>\n",
       "      <td>2021-09-14</td>\n",
       "      <td>103.2021</td>\n",
       "      <td>closure</td>\n",
       "      <td>https://www.camara.leg.br/internet/sitaqweb/Te...</td>\n",
       "      <td>leo de brito</td>\n",
       "      <td>pt</td>\n",
       "      <td>0</td>\n",
       "      <td>ac</td>\n",
       "      <td>north</td>\n",
       "      <td>DISCURSO NA ÍNTEGRA ENCAMINHADO PELO SR. DEPUT...</td>\n",
       "      <td>em primeiro lugar, quero me solidarizar com o...</td>\n",
       "    </tr>\n",
       "    <tr>\n",
       "      <th>14513</th>\n",
       "      <td>2021-10-14</td>\n",
       "      <td>121.2021</td>\n",
       "      <td>closure</td>\n",
       "      <td>https://www.camara.leg.br/internet/sitaqweb/Te...</td>\n",
       "      <td>capitão alberto neto</td>\n",
       "      <td>republicanos</td>\n",
       "      <td>0</td>\n",
       "      <td>am</td>\n",
       "      <td>north</td>\n",
       "      <td>DISCURSO NA ÍNTEGRA ENCAMINHADO PELO SR. DEPUT...</td>\n",
       "      <td>Exmo. Sr. Presidente, Sras. Deputadas, Srs. De...</td>\n",
       "    </tr>\n",
       "    <tr>\n",
       "      <th>14541</th>\n",
       "      <td>2021-10-28</td>\n",
       "      <td>128.2021</td>\n",
       "      <td>closure</td>\n",
       "      <td>https://www.camara.leg.br/internet/sitaqweb/Te...</td>\n",
       "      <td>helder salomão</td>\n",
       "      <td>pt</td>\n",
       "      <td>0</td>\n",
       "      <td>es</td>\n",
       "      <td>southeast</td>\n",
       "      <td>DISCURSO NA ÍNTEGRA ENCAMINHADO PELO SR. DEPUT...</td>\n",
       "      <td>Sr. Presidente, Sras. e Srs. Deputadas e Deput...</td>\n",
       "    </tr>\n",
       "    <tr>\n",
       "      <th>14555</th>\n",
       "      <td>2021-11-16</td>\n",
       "      <td>136.2021</td>\n",
       "      <td>closure</td>\n",
       "      <td>https://www.camara.leg.br/internet/sitaqweb/Te...</td>\n",
       "      <td>nilto tatto</td>\n",
       "      <td>pt</td>\n",
       "      <td>0</td>\n",
       "      <td>sp</td>\n",
       "      <td>southeast</td>\n",
       "      <td>DISCURSO NA ÍNTEGRA ENCAMINHADO PELO SR. DEPUT...</td>\n",
       "      <td>Sr. Presidente, registro palestra proferida pe...</td>\n",
       "    </tr>\n",
       "    <tr>\n",
       "      <th>14558</th>\n",
       "      <td>2021-11-17</td>\n",
       "      <td>138.2021</td>\n",
       "      <td>closure</td>\n",
       "      <td>https://www.camara.leg.br/internet/sitaqweb/Te...</td>\n",
       "      <td>capitão alberto neto</td>\n",
       "      <td>republicanos</td>\n",
       "      <td>0</td>\n",
       "      <td>am</td>\n",
       "      <td>north</td>\n",
       "      <td>DISCURSO NA ÍNTEGRA ENCAMINHADO PELO SR. DEPUT...</td>\n",
       "      <td>nos últimos anos, o Brasil vem sendo injustam...</td>\n",
       "    </tr>\n",
       "  </tbody>\n",
       "</table>\n",
       "<p>14602 rows × 11 columns</p>\n",
       "</div>"
      ],
      "text/plain": [
       "             date     session                           phase  \\\n",
       "0      2000-01-11  195.2.51.O                   short address   \n",
       "1      2000-01-11  195.2.51.O  parliamentarian communications   \n",
       "2      2000-01-11  195.2.51.O                   short address   \n",
       "3      2000-01-11  195.2.51.O                   short address   \n",
       "4      2000-03-11  196.2.51.O                    long address   \n",
       "...           ...         ...                             ...   \n",
       "14435  2021-09-14    103.2021                         closure   \n",
       "14513  2021-10-14    121.2021                         closure   \n",
       "14541  2021-10-28    128.2021                         closure   \n",
       "14555  2021-11-16    136.2021                         closure   \n",
       "14558  2021-11-17    138.2021                         closure   \n",
       "\n",
       "                                          discourse_link  \\\n",
       "0      https://www.camara.leg.br/internet/SitaqWeb/Te...   \n",
       "1      https://www.camara.leg.br/internet/SitaqWeb/Te...   \n",
       "2      https://www.camara.leg.br/internet/SitaqWeb/Te...   \n",
       "3      https://www.camara.leg.br/internet/SitaqWeb/Te...   \n",
       "4      https://www.camara.leg.br/internet/SitaqWeb/Te...   \n",
       "...                                                  ...   \n",
       "14435  https://www.camara.leg.br/internet/sitaqweb/Te...   \n",
       "14513  https://www.camara.leg.br/internet/sitaqweb/Te...   \n",
       "14541  https://www.camara.leg.br/internet/sitaqweb/Te...   \n",
       "14555  https://www.camara.leg.br/internet/sitaqweb/Te...   \n",
       "14558  https://www.camara.leg.br/internet/sitaqweb/Te...   \n",
       "\n",
       "                    speaker         party  coalition state     region  \\\n",
       "0           nilton capixaba           ptb          0    ro      north   \n",
       "1             sérgio novais           psb          0    ce  northeast   \n",
       "2             marcos afonso            pt          0    ac      north   \n",
       "3           expedito júnior           dem          1    ro      north   \n",
       "4              silas câmara           ptb          0    am      north   \n",
       "...                     ...           ...        ...   ...        ...   \n",
       "14435          leo de brito            pt          0    ac      north   \n",
       "14513  capitão alberto neto  republicanos          0    am      north   \n",
       "14541        helder salomão            pt          0    es  southeast   \n",
       "14555           nilto tatto            pt          0    sp  southeast   \n",
       "14558  capitão alberto neto  republicanos          0    am      north   \n",
       "\n",
       "                                      original_discourse  \\\n",
       "0      O SR. NILTON CAPIXABA (PTB-RO. Pronuncia o seg...   \n",
       "1      O SR. SÉRGIO NOVAIS (Bloco/PSB-CE. Como Líder....   \n",
       "2      O SR. MARCOS AFONSO (PT-AC. Pronuncia o seguin...   \n",
       "3      O SR . EXPEDITO JÚNIOR (PFL-RO. Pronuncia o se...   \n",
       "4      O SR. SILAS CÂMARA (PTB-AM. Sem revisão do ora...   \n",
       "...                                                  ...   \n",
       "14435  DISCURSO NA ÍNTEGRA ENCAMINHADO PELO SR. DEPUT...   \n",
       "14513  DISCURSO NA ÍNTEGRA ENCAMINHADO PELO SR. DEPUT...   \n",
       "14541  DISCURSO NA ÍNTEGRA ENCAMINHADO PELO SR. DEPUT...   \n",
       "14555  DISCURSO NA ÍNTEGRA ENCAMINHADO PELO SR. DEPUT...   \n",
       "14558  DISCURSO NA ÍNTEGRA ENCAMINHADO PELO SR. DEPUT...   \n",
       "\n",
       "                                         clean_discourse  \n",
       "0       Sr. Presidente, Sras. e Srs. Deputados, na se...  \n",
       "1       Sr. Presidente, Sras. e Srs. Deputados, prime...  \n",
       "2       Sr. Presidente, Sras. e Srs. Deputados, venho...  \n",
       "3       Sr. Presidente, Sras. e Srs. Deputados, pode ...  \n",
       "4       Sr. Presidente, Sras. e Srs. Deputados, é com...  \n",
       "...                                                  ...  \n",
       "14435   em primeiro lugar, quero me solidarizar com o...  \n",
       "14513  Exmo. Sr. Presidente, Sras. Deputadas, Srs. De...  \n",
       "14541  Sr. Presidente, Sras. e Srs. Deputadas e Deput...  \n",
       "14555  Sr. Presidente, registro palestra proferida pe...  \n",
       "14558   nos últimos anos, o Brasil vem sendo injustam...  \n",
       "\n",
       "[14602 rows x 11 columns]"
      ]
     },
     "execution_count": 94,
     "metadata": {},
     "output_type": "execute_result"
    }
   ],
   "source": [
    "df"
   ]
  },
  {
   "cell_type": "code",
   "execution_count": null,
   "metadata": {
    "id": "zsB35z4uN8dI"
   },
   "outputs": [],
   "source": [
    "# saving as a brand new clean Amazon discourses data set\n",
    "df.to_csv('amazon_clean_discourses.tsv', sep='\\t', encoding='utf-8', index=False)"
   ]
  }
 ],
 "metadata": {
  "colab": {
   "collapsed_sections": [],
   "name": "02_cleaning.ipynb",
   "provenance": []
  },
  "kernelspec": {
   "display_name": "Python 3",
   "language": "python",
   "name": "python3"
  },
  "language_info": {
   "codemirror_mode": {
    "name": "ipython",
    "version": 3
   },
   "file_extension": ".py",
   "mimetype": "text/x-python",
   "name": "python",
   "nbconvert_exporter": "python",
   "pygments_lexer": "ipython3",
   "version": "3.8.3"
  }
 },
 "nbformat": 4,
 "nbformat_minor": 1
}
