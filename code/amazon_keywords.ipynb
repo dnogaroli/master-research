{
 "cells": [
  {
   "cell_type": "markdown",
   "metadata": {
    "id": "FbtZ_udeMKmn"
   },
   "source": [
    "This notebook will scan the discourses searching for specific keywords. This way, we'll have a data set with only the discourses that contains the keywords."
   ]
  },
  {
   "cell_type": "code",
   "execution_count": null,
   "metadata": {
    "id": "aZkKvWU-e4Lr"
   },
   "outputs": [],
   "source": [
    "import pandas as pd\n",
    "import re"
   ]
  },
  {
   "cell_type": "code",
   "execution_count": null,
   "metadata": {
    "id": "96sPoJ8Ye4Lu"
   },
   "outputs": [],
   "source": [
    "df = pd.read_csv('parliament_discourses.tsv', sep='\\t')"
   ]
  },
  {
   "cell_type": "code",
   "execution_count": null,
   "metadata": {
    "id": "mc0Eh0efe4Lv",
    "outputId": "8014d922-5c59-4696-d4ed-33d1288df4a5"
   },
   "outputs": [
    {
     "data": {
      "text/html": [
       "<div>\n",
       "<style scoped>\n",
       "    .dataframe tbody tr th:only-of-type {\n",
       "        vertical-align: middle;\n",
       "    }\n",
       "\n",
       "    .dataframe tbody tr th {\n",
       "        vertical-align: top;\n",
       "    }\n",
       "\n",
       "    .dataframe thead th {\n",
       "        text-align: right;\n",
       "    }\n",
       "</style>\n",
       "<table border=\"1\" class=\"dataframe\">\n",
       "  <thead>\n",
       "    <tr style=\"text-align: right;\">\n",
       "      <th></th>\n",
       "      <th>date</th>\n",
       "      <th>session</th>\n",
       "      <th>phase</th>\n",
       "      <th>discourse_link</th>\n",
       "      <th>speaker</th>\n",
       "      <th>party</th>\n",
       "      <th>coalition</th>\n",
       "      <th>state</th>\n",
       "      <th>region</th>\n",
       "      <th>original_discourse</th>\n",
       "    </tr>\n",
       "  </thead>\n",
       "  <tbody>\n",
       "    <tr>\n",
       "      <th>0</th>\n",
       "      <td>2021-12-21</td>\n",
       "      <td>35.2021.N</td>\n",
       "      <td>agenda</td>\n",
       "      <td>https://www.camara.leg.br/internet/sitaqweb/Te...</td>\n",
       "      <td>hugo leal</td>\n",
       "      <td>psd</td>\n",
       "      <td>0</td>\n",
       "      <td>rj</td>\n",
       "      <td>southeast</td>\n",
       "      <td>O SR. HUGO LEAL (PSD - RJ. Como Relator. Sem r...</td>\n",
       "    </tr>\n",
       "    <tr>\n",
       "      <th>1</th>\n",
       "      <td>2021-12-21</td>\n",
       "      <td>35.2021.N</td>\n",
       "      <td>agenda</td>\n",
       "      <td>https://www.camara.leg.br/internet/sitaqweb/Te...</td>\n",
       "      <td>domingos sávio</td>\n",
       "      <td>psdb</td>\n",
       "      <td>0</td>\n",
       "      <td>mg</td>\n",
       "      <td>southeast</td>\n",
       "      <td>O SR. DOMINGOS SÁVIO (PSDB - MG. Pela ordem. S...</td>\n",
       "    </tr>\n",
       "    <tr>\n",
       "      <th>2</th>\n",
       "      <td>2021-12-21</td>\n",
       "      <td>35.2021.N</td>\n",
       "      <td>agenda</td>\n",
       "      <td>https://www.camara.leg.br/internet/sitaqweb/Te...</td>\n",
       "      <td>moses rodrigues</td>\n",
       "      <td>mdb</td>\n",
       "      <td>0</td>\n",
       "      <td>ce</td>\n",
       "      <td>northeast</td>\n",
       "      <td>O SR. MOSES RODRIGUES (MDB - CE. Pela ordem. S...</td>\n",
       "    </tr>\n",
       "    <tr>\n",
       "      <th>3</th>\n",
       "      <td>2021-12-21</td>\n",
       "      <td>35.2021.N</td>\n",
       "      <td>agenda</td>\n",
       "      <td>https://www.camara.leg.br/internet/sitaqweb/Te...</td>\n",
       "      <td>dra. soraya manato</td>\n",
       "      <td>psl</td>\n",
       "      <td>0</td>\n",
       "      <td>es</td>\n",
       "      <td>southeast</td>\n",
       "      <td>A SRA. DRA. SORAYA MANATO (PSL - ES. Pela orde...</td>\n",
       "    </tr>\n",
       "    <tr>\n",
       "      <th>4</th>\n",
       "      <td>2021-12-21</td>\n",
       "      <td>35.2021.N</td>\n",
       "      <td>agenda</td>\n",
       "      <td>https://www.camara.leg.br/internet/sitaqweb/Te...</td>\n",
       "      <td>delegado marcelo freitas</td>\n",
       "      <td>psl</td>\n",
       "      <td>0</td>\n",
       "      <td>mg</td>\n",
       "      <td>southeast</td>\n",
       "      <td>O SR. DELEGADO MARCELO FREITAS (PSL - MG. Pela...</td>\n",
       "    </tr>\n",
       "  </tbody>\n",
       "</table>\n",
       "</div>"
      ],
      "text/plain": [
       "         date    session   phase  \\\n",
       "0  2021-12-21  35.2021.N  agenda   \n",
       "1  2021-12-21  35.2021.N  agenda   \n",
       "2  2021-12-21  35.2021.N  agenda   \n",
       "3  2021-12-21  35.2021.N  agenda   \n",
       "4  2021-12-21  35.2021.N  agenda   \n",
       "\n",
       "                                      discourse_link  \\\n",
       "0  https://www.camara.leg.br/internet/sitaqweb/Te...   \n",
       "1  https://www.camara.leg.br/internet/sitaqweb/Te...   \n",
       "2  https://www.camara.leg.br/internet/sitaqweb/Te...   \n",
       "3  https://www.camara.leg.br/internet/sitaqweb/Te...   \n",
       "4  https://www.camara.leg.br/internet/sitaqweb/Te...   \n",
       "\n",
       "                    speaker party  coalition state     region  \\\n",
       "0                 hugo leal   psd          0    rj  southeast   \n",
       "1            domingos sávio  psdb          0    mg  southeast   \n",
       "2           moses rodrigues   mdb          0    ce  northeast   \n",
       "3        dra. soraya manato   psl          0    es  southeast   \n",
       "4  delegado marcelo freitas   psl          0    mg  southeast   \n",
       "\n",
       "                                  original_discourse  \n",
       "0  O SR. HUGO LEAL (PSD - RJ. Como Relator. Sem r...  \n",
       "1  O SR. DOMINGOS SÁVIO (PSDB - MG. Pela ordem. S...  \n",
       "2  O SR. MOSES RODRIGUES (MDB - CE. Pela ordem. S...  \n",
       "3  A SRA. DRA. SORAYA MANATO (PSL - ES. Pela orde...  \n",
       "4  O SR. DELEGADO MARCELO FREITAS (PSL - MG. Pela...  "
      ]
     },
     "execution_count": 21,
     "metadata": {},
     "output_type": "execute_result"
    }
   ],
   "source": [
    "df"
   ]
  },
  {
   "cell_type": "code",
   "execution_count": null,
   "metadata": {
    "id": "-sa41L1_e4Lx"
   },
   "outputs": [],
   "source": [
    "df[\"date\"] = pd.to_datetime(bigdata[\"date\"])\n",
    "df = df.sort_values(by=\"date\", ascending=True, ignore_index=True)"
   ]
  },
  {
   "cell_type": "code",
   "execution_count": null,
   "metadata": {
    "id": "zWMNf9JVe4Lz"
   },
   "outputs": [],
   "source": [
    "# df.describe()"
   ]
  },
  {
   "cell_type": "markdown",
   "metadata": {
    "id": "ntv6z31ye4L0"
   },
   "source": [
    "Amazon  terms and synonyms:\n",
    "    - amazônia\n",
    "    - amazônica\n",
    "    - floresta tropical"
   ]
  },
  {
   "cell_type": "code",
   "execution_count": null,
   "metadata": {
    "id": "wkMCjU7pe4L3"
   },
   "outputs": [],
   "source": [
    "mask = \"amazônia|amazônic.|floresta tropical\""
   ]
  },
  {
   "cell_type": "code",
   "execution_count": null,
   "metadata": {
    "id": "r7vGbBPoe4L4"
   },
   "outputs": [],
   "source": [
    "# filtering out all documents\n",
    "df_amazon = df.loc[df['original_discourse'].str.contains(mask, flags=re.IGNORECASE, case=False, na=False)]"
   ]
  },
  {
   "cell_type": "code",
   "execution_count": null,
   "metadata": {
    "id": "lG5L42xye4L7"
   },
   "outputs": [],
   "source": [
    "# saving as .tsv\n",
    "df_amazon.to_csv('amazon_discourses.tsv', sep='\\t', encoding='utf-8', index=False)"
   ]
  }
 ],
 "metadata": {
  "colab": {
   "collapsed_sections": [],
   "name": "01_amazon_keywords.ipynb",
   "provenance": []
  },
  "kernelspec": {
   "display_name": "Python 3",
   "language": "python",
   "name": "python3"
  },
  "language_info": {
   "codemirror_mode": {
    "name": "ipython",
    "version": 3
   },
   "file_extension": ".py",
   "mimetype": "text/x-python",
   "name": "python",
   "nbconvert_exporter": "python",
   "pygments_lexer": "ipython3",
   "version": "3.8.3"
  }
 },
 "nbformat": 4,
 "nbformat_minor": 1
}
